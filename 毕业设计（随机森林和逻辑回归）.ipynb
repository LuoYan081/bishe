{
 "cells": [
  {
   "metadata": {
    "ExecuteTime": {
     "end_time": "2025-03-13T09:09:15.181379Z",
     "start_time": "2025-03-13T09:09:15.159589Z"
    }
   },
   "cell_type": "code",
   "source": [
    "# import libraries\n",
    "import pandas as pd\n",
    "import numpy as np\n",
    "import matplotlib.pyplot as plt\n",
    "import seaborn as sns\n",
    "import gc\n",
    "# 对pandas和matplotlib 的显示设置\n",
    "pd.set_option('display.max_columns', 30)\n",
    "plt.rcParams.update({\"font.family\":\"SimHei\",\"font.size\":14})\n",
    "plt.style.use(\"tableau-colorblind10\")\n",
    "\n",
    "\n",
    "# # matplotlib支持中文\n",
    "plt.rcParams['font.sans-serif'] = ['SimHei']  # 用来正常显示中文标签\n",
    "plt.rcParams['axes.unicode_minus'] = False  # 用来正常显示负号\n",
    "%matplotlib inline"
   ],
   "id": "cac62b5164b13bce",
   "outputs": [],
   "execution_count": 1
  },
  {
   "metadata": {},
   "cell_type": "markdown",
   "source": [
    "### 数据清洗\n",
    "清洗步骤： 数据类型检查 压缩数据 * 空值处理"
   ],
   "id": "1df6aab917dd3c7f"
  },
  {
   "metadata": {
    "ExecuteTime": {
     "end_time": "2025-03-13T09:09:15.537016Z",
     "start_time": "2025-03-13T09:09:15.198174Z"
    }
   },
   "cell_type": "code",
   "source": [
    "# load data\n",
    "#data_user_log = pd.read_csv(\"user_log_format1.csv\")  # 初次导入数据时启用\n",
    "data_user_info = pd.read_csv(\"user_info_format1.csv\")\n",
    "data_train = pd.read_csv(\"train_format1.csv\")\n",
    "data_test = pd.read_csv(\"test_format1.csv\")\n",
    "gc.collect()"
   ],
   "id": "b9943dc849f768c8",
   "outputs": [
    {
     "data": {
      "text/plain": [
       "0"
      ]
     },
     "execution_count": 2,
     "metadata": {},
     "output_type": "execute_result"
    }
   ],
   "execution_count": 2
  },
  {
   "metadata": {},
   "cell_type": "markdown",
   "source": "压缩内存：调整数据类型，将原来int64调整为合适的大小，例如:int32、int16、int8，以达到压缩内存的目的。",
   "id": "9300382058796d00"
  },
  {
   "metadata": {
    "ExecuteTime": {
     "end_time": "2025-03-13T09:10:00.549699Z",
     "start_time": "2025-03-13T09:09:15.666748Z"
    }
   },
   "cell_type": "code",
   "source": [
    "# 二次导入数据时，指定数据类型以压缩内存\n",
    "d_types = {'user_id': 'int32', 'item_id': 'int32', 'cat_id': 'int16', 'seller_id': 'int16', 'brand_id': 'float32', 'time_stamp': 'int16', 'action_type': 'int8'}\n",
    "data_user_log = pd.read_csv(\"user_log_format1.csv\",dtype = d_types)\n",
    "# check tables\n",
    "display(data_user_log.head(1))\n",
    "display(data_user_info.head(1))\n",
    "display(data_train.head(1))\n",
    "display(data_test.head(1))\n",
    "gc.collect()"
   ],
   "id": "fc893766ca5c348e",
   "outputs": [
    {
     "data": {
      "text/plain": [
       "   user_id  item_id  cat_id  seller_id  brand_id  time_stamp  action_type\n",
       "0   328862   323294     833       2882    2661.0         829            0"
      ],
      "text/html": [
       "<div>\n",
       "<style scoped>\n",
       "    .dataframe tbody tr th:only-of-type {\n",
       "        vertical-align: middle;\n",
       "    }\n",
       "\n",
       "    .dataframe tbody tr th {\n",
       "        vertical-align: top;\n",
       "    }\n",
       "\n",
       "    .dataframe thead th {\n",
       "        text-align: right;\n",
       "    }\n",
       "</style>\n",
       "<table border=\"1\" class=\"dataframe\">\n",
       "  <thead>\n",
       "    <tr style=\"text-align: right;\">\n",
       "      <th></th>\n",
       "      <th>user_id</th>\n",
       "      <th>item_id</th>\n",
       "      <th>cat_id</th>\n",
       "      <th>seller_id</th>\n",
       "      <th>brand_id</th>\n",
       "      <th>time_stamp</th>\n",
       "      <th>action_type</th>\n",
       "    </tr>\n",
       "  </thead>\n",
       "  <tbody>\n",
       "    <tr>\n",
       "      <th>0</th>\n",
       "      <td>328862</td>\n",
       "      <td>323294</td>\n",
       "      <td>833</td>\n",
       "      <td>2882</td>\n",
       "      <td>2661.0</td>\n",
       "      <td>829</td>\n",
       "      <td>0</td>\n",
       "    </tr>\n",
       "  </tbody>\n",
       "</table>\n",
       "</div>"
      ]
     },
     "metadata": {},
     "output_type": "display_data"
    },
    {
     "data": {
      "text/plain": [
       "   user_id  age_range  gender\n",
       "0   376517        6.0     1.0"
      ],
      "text/html": [
       "<div>\n",
       "<style scoped>\n",
       "    .dataframe tbody tr th:only-of-type {\n",
       "        vertical-align: middle;\n",
       "    }\n",
       "\n",
       "    .dataframe tbody tr th {\n",
       "        vertical-align: top;\n",
       "    }\n",
       "\n",
       "    .dataframe thead th {\n",
       "        text-align: right;\n",
       "    }\n",
       "</style>\n",
       "<table border=\"1\" class=\"dataframe\">\n",
       "  <thead>\n",
       "    <tr style=\"text-align: right;\">\n",
       "      <th></th>\n",
       "      <th>user_id</th>\n",
       "      <th>age_range</th>\n",
       "      <th>gender</th>\n",
       "    </tr>\n",
       "  </thead>\n",
       "  <tbody>\n",
       "    <tr>\n",
       "      <th>0</th>\n",
       "      <td>376517</td>\n",
       "      <td>6.0</td>\n",
       "      <td>1.0</td>\n",
       "    </tr>\n",
       "  </tbody>\n",
       "</table>\n",
       "</div>"
      ]
     },
     "metadata": {},
     "output_type": "display_data"
    },
    {
     "data": {
      "text/plain": [
       "   user_id  merchant_id  label\n",
       "0    34176         3906      0"
      ],
      "text/html": [
       "<div>\n",
       "<style scoped>\n",
       "    .dataframe tbody tr th:only-of-type {\n",
       "        vertical-align: middle;\n",
       "    }\n",
       "\n",
       "    .dataframe tbody tr th {\n",
       "        vertical-align: top;\n",
       "    }\n",
       "\n",
       "    .dataframe thead th {\n",
       "        text-align: right;\n",
       "    }\n",
       "</style>\n",
       "<table border=\"1\" class=\"dataframe\">\n",
       "  <thead>\n",
       "    <tr style=\"text-align: right;\">\n",
       "      <th></th>\n",
       "      <th>user_id</th>\n",
       "      <th>merchant_id</th>\n",
       "      <th>label</th>\n",
       "    </tr>\n",
       "  </thead>\n",
       "  <tbody>\n",
       "    <tr>\n",
       "      <th>0</th>\n",
       "      <td>34176</td>\n",
       "      <td>3906</td>\n",
       "      <td>0</td>\n",
       "    </tr>\n",
       "  </tbody>\n",
       "</table>\n",
       "</div>"
      ]
     },
     "metadata": {},
     "output_type": "display_data"
    },
    {
     "data": {
      "text/plain": [
       "   user_id  merchant_id  prob\n",
       "0   163968         4605   NaN"
      ],
      "text/html": [
       "<div>\n",
       "<style scoped>\n",
       "    .dataframe tbody tr th:only-of-type {\n",
       "        vertical-align: middle;\n",
       "    }\n",
       "\n",
       "    .dataframe tbody tr th {\n",
       "        vertical-align: top;\n",
       "    }\n",
       "\n",
       "    .dataframe thead th {\n",
       "        text-align: right;\n",
       "    }\n",
       "</style>\n",
       "<table border=\"1\" class=\"dataframe\">\n",
       "  <thead>\n",
       "    <tr style=\"text-align: right;\">\n",
       "      <th></th>\n",
       "      <th>user_id</th>\n",
       "      <th>merchant_id</th>\n",
       "      <th>prob</th>\n",
       "    </tr>\n",
       "  </thead>\n",
       "  <tbody>\n",
       "    <tr>\n",
       "      <th>0</th>\n",
       "      <td>163968</td>\n",
       "      <td>4605</td>\n",
       "      <td>NaN</td>\n",
       "    </tr>\n",
       "  </tbody>\n",
       "</table>\n",
       "</div>"
      ]
     },
     "metadata": {},
     "output_type": "display_data"
    },
    {
     "data": {
      "text/plain": [
       "5"
      ]
     },
     "execution_count": 3,
     "metadata": {},
     "output_type": "execute_result"
    }
   ],
   "execution_count": 3
  },
  {
   "metadata": {},
   "cell_type": "markdown",
   "source": "### 数据类型检查",
   "id": "31bdd5cf9ecccff3"
  },
  {
   "metadata": {
    "ExecuteTime": {
     "end_time": "2025-03-13T09:10:00.828360Z",
     "start_time": "2025-03-13T09:10:00.788794Z"
    }
   },
   "cell_type": "code",
   "source": [
    "# check table info\n",
    "display(data_user_log.info())\n",
    "display(data_user_info.info())\n",
    "display(data_train.info())\n",
    "display(data_test.info())"
   ],
   "id": "27bfb25a9839a427",
   "outputs": [
    {
     "name": "stdout",
     "output_type": "stream",
     "text": [
      "<class 'pandas.core.frame.DataFrame'>\n",
      "RangeIndex: 54925330 entries, 0 to 54925329\n",
      "Data columns (total 7 columns):\n",
      " #   Column       Dtype  \n",
      "---  ------       -----  \n",
      " 0   user_id      int32  \n",
      " 1   item_id      int32  \n",
      " 2   cat_id       int16  \n",
      " 3   seller_id    int16  \n",
      " 4   brand_id     float32\n",
      " 5   time_stamp   int16  \n",
      " 6   action_type  int8   \n",
      "dtypes: float32(1), int16(3), int32(2), int8(1)\n",
      "memory usage: 995.2 MB\n"
     ]
    },
    {
     "data": {
      "text/plain": [
       "None"
      ]
     },
     "metadata": {},
     "output_type": "display_data"
    },
    {
     "name": "stdout",
     "output_type": "stream",
     "text": [
      "<class 'pandas.core.frame.DataFrame'>\n",
      "RangeIndex: 424170 entries, 0 to 424169\n",
      "Data columns (total 3 columns):\n",
      " #   Column     Non-Null Count   Dtype  \n",
      "---  ------     --------------   -----  \n",
      " 0   user_id    424170 non-null  int64  \n",
      " 1   age_range  421953 non-null  float64\n",
      " 2   gender     417734 non-null  float64\n",
      "dtypes: float64(2), int64(1)\n",
      "memory usage: 9.7 MB\n"
     ]
    },
    {
     "data": {
      "text/plain": [
       "None"
      ]
     },
     "metadata": {},
     "output_type": "display_data"
    },
    {
     "name": "stdout",
     "output_type": "stream",
     "text": [
      "<class 'pandas.core.frame.DataFrame'>\n",
      "RangeIndex: 260864 entries, 0 to 260863\n",
      "Data columns (total 3 columns):\n",
      " #   Column       Non-Null Count   Dtype\n",
      "---  ------       --------------   -----\n",
      " 0   user_id      260864 non-null  int64\n",
      " 1   merchant_id  260864 non-null  int64\n",
      " 2   label        260864 non-null  int64\n",
      "dtypes: int64(3)\n",
      "memory usage: 6.0 MB\n"
     ]
    },
    {
     "data": {
      "text/plain": [
       "None"
      ]
     },
     "metadata": {},
     "output_type": "display_data"
    },
    {
     "name": "stdout",
     "output_type": "stream",
     "text": [
      "<class 'pandas.core.frame.DataFrame'>\n",
      "RangeIndex: 261477 entries, 0 to 261476\n",
      "Data columns (total 3 columns):\n",
      " #   Column       Non-Null Count   Dtype  \n",
      "---  ------       --------------   -----  \n",
      " 0   user_id      261477 non-null  int64  \n",
      " 1   merchant_id  261477 non-null  int64  \n",
      " 2   prob         0 non-null       float64\n",
      "dtypes: float64(1), int64(2)\n",
      "memory usage: 6.0 MB\n"
     ]
    },
    {
     "data": {
      "text/plain": [
       "None"
      ]
     },
     "metadata": {},
     "output_type": "display_data"
    }
   ],
   "execution_count": 4
  },
  {
   "metadata": {},
   "cell_type": "markdown",
   "source": "### 压缩数据",
   "id": "6701f6929ba6f148"
  },
  {
   "metadata": {
    "ExecuteTime": {
     "end_time": "2025-03-13T09:10:01.117494Z",
     "start_time": "2025-03-13T09:10:00.924039Z"
    }
   },
   "cell_type": "code",
   "source": [
    "# 拼接train、test数据，方便下一步提取特征\n",
    "data_train[\"origin\"] = \"train\"\n",
    "data_test[\"origin\"] = \"test\"\n",
    "data = pd.concat([data_train,data_test],sort = False)\n",
    "data = data.drop([\"prob\"],axis = 1)\n",
    "data.info()\n",
    "gc.collect()"
   ],
   "id": "5c11fea3fdbb65c0",
   "outputs": [
    {
     "name": "stdout",
     "output_type": "stream",
     "text": [
      "<class 'pandas.core.frame.DataFrame'>\n",
      "Index: 522341 entries, 0 to 261476\n",
      "Data columns (total 4 columns):\n",
      " #   Column       Non-Null Count   Dtype  \n",
      "---  ------       --------------   -----  \n",
      " 0   user_id      522341 non-null  int64  \n",
      " 1   merchant_id  522341 non-null  int64  \n",
      " 2   label        260864 non-null  float64\n",
      " 3   origin       522341 non-null  object \n",
      "dtypes: float64(1), int64(2), object(1)\n",
      "memory usage: 19.9+ MB\n"
     ]
    },
    {
     "data": {
      "text/plain": [
       "0"
      ]
     },
     "execution_count": 5,
     "metadata": {},
     "output_type": "execute_result"
    }
   ],
   "execution_count": 5
  },
  {
   "metadata": {
    "ExecuteTime": {
     "end_time": "2025-03-13T09:10:01.141782Z",
     "start_time": "2025-03-13T09:10:01.137627Z"
    }
   },
   "cell_type": "code",
   "source": [
    "# 所有列都是数值型，直接downcast\n",
    "# 初次压缩时，对所有数据集进行压缩\n",
    "list = [data,data_user_log,data_user_info]"
   ],
   "id": "7bfba246cb923bad",
   "outputs": [],
   "execution_count": 6
  },
  {
   "metadata": {
    "ExecuteTime": {
     "end_time": "2025-03-13T09:10:01.191802Z",
     "start_time": "2025-03-13T09:10:01.186295Z"
    }
   },
   "cell_type": "code",
   "source": [
    "# 二次导入时无需重复data_user_log压缩\n",
    "list = [data,data_user_info]"
   ],
   "id": "31615dfbb25eebf2",
   "outputs": [],
   "execution_count": 7
  },
  {
   "metadata": {
    "ExecuteTime": {
     "end_time": "2025-03-13T09:10:01.479183Z",
     "start_time": "2025-03-13T09:10:01.202224Z"
    }
   },
   "cell_type": "code",
   "source": [
    "for df in list:\n",
    "    fcols = df.select_dtypes('float').columns\n",
    "    icols = df.select_dtypes('integer').columns\n",
    "    df[fcols] = df[fcols].apply(pd.to_numeric, downcast='float')\n",
    "    df[icols] = df[icols].apply(pd.to_numeric, downcast='integer')\n",
    "# check table info again\n",
    "display(data_user_log.info())\n",
    "display(data_user_info.info())\n",
    "display(data.info())\n",
    "gc.collect()"
   ],
   "id": "6067fd1209076541",
   "outputs": [
    {
     "name": "stdout",
     "output_type": "stream",
     "text": [
      "<class 'pandas.core.frame.DataFrame'>\n",
      "RangeIndex: 54925330 entries, 0 to 54925329\n",
      "Data columns (total 7 columns):\n",
      " #   Column       Dtype  \n",
      "---  ------       -----  \n",
      " 0   user_id      int32  \n",
      " 1   item_id      int32  \n",
      " 2   cat_id       int16  \n",
      " 3   seller_id    int16  \n",
      " 4   brand_id     float32\n",
      " 5   time_stamp   int16  \n",
      " 6   action_type  int8   \n",
      "dtypes: float32(1), int16(3), int32(2), int8(1)\n",
      "memory usage: 995.2 MB\n"
     ]
    },
    {
     "data": {
      "text/plain": [
       "None"
      ]
     },
     "metadata": {},
     "output_type": "display_data"
    },
    {
     "name": "stdout",
     "output_type": "stream",
     "text": [
      "<class 'pandas.core.frame.DataFrame'>\n",
      "RangeIndex: 424170 entries, 0 to 424169\n",
      "Data columns (total 3 columns):\n",
      " #   Column     Non-Null Count   Dtype  \n",
      "---  ------     --------------   -----  \n",
      " 0   user_id    424170 non-null  int32  \n",
      " 1   age_range  421953 non-null  float32\n",
      " 2   gender     417734 non-null  float32\n",
      "dtypes: float32(2), int32(1)\n",
      "memory usage: 4.9 MB\n"
     ]
    },
    {
     "data": {
      "text/plain": [
       "None"
      ]
     },
     "metadata": {},
     "output_type": "display_data"
    },
    {
     "name": "stdout",
     "output_type": "stream",
     "text": [
      "<class 'pandas.core.frame.DataFrame'>\n",
      "Index: 522341 entries, 0 to 261476\n",
      "Data columns (total 4 columns):\n",
      " #   Column       Non-Null Count   Dtype  \n",
      "---  ------       --------------   -----  \n",
      " 0   user_id      522341 non-null  int32  \n",
      " 1   merchant_id  522341 non-null  int16  \n",
      " 2   label        260864 non-null  float32\n",
      " 3   origin       522341 non-null  object \n",
      "dtypes: float32(1), int16(1), int32(1), object(1)\n",
      "memory usage: 13.0+ MB\n"
     ]
    },
    {
     "data": {
      "text/plain": [
       "None"
      ]
     },
     "metadata": {},
     "output_type": "display_data"
    },
    {
     "data": {
      "text/plain": [
       "0"
      ]
     },
     "execution_count": 8,
     "metadata": {},
     "output_type": "execute_result"
    }
   ],
   "execution_count": 8
  },
  {
   "metadata": {
    "ExecuteTime": {
     "end_time": "2025-03-13T09:10:01.614733Z",
     "start_time": "2025-03-13T09:10:01.525326Z"
    }
   },
   "cell_type": "code",
   "source": [
    "# 记录数据类型，二次导入时用\n",
    "d_col = data_user_log.dtypes.index\n",
    "d_type = [i.name for i in data_user_log.dtypes.values]\n",
    "column_dict = dict(zip(d_col,d_type))\n",
    "print(column_dict)\n",
    "\n",
    "# 统一字段名\n",
    "data_user_log.rename(columns = {\"seller_id\":\"merchant_id\"},inplace = True)\n",
    "gc.collect()"
   ],
   "id": "1cbf61d4ca0fd8",
   "outputs": [
    {
     "name": "stdout",
     "output_type": "stream",
     "text": [
      "{'user_id': 'int32', 'item_id': 'int32', 'cat_id': 'int16', 'seller_id': 'int16', 'brand_id': 'float32', 'time_stamp': 'int16', 'action_type': 'int8'}\n"
     ]
    },
    {
     "data": {
      "text/plain": [
       "0"
      ]
     },
     "execution_count": 9,
     "metadata": {},
     "output_type": "execute_result"
    }
   ],
   "execution_count": 9
  },
  {
   "metadata": {},
   "cell_type": "markdown",
   "source": "### 空值处理",
   "id": "a83185702a75627b"
  },
  {
   "metadata": {
    "ExecuteTime": {
     "end_time": "2025-03-13T09:10:01.721618Z",
     "start_time": "2025-03-13T09:10:01.622988Z"
    }
   },
   "cell_type": "code",
   "source": [
    "# 年龄、性别列存在null值，填补空值\n",
    "data_user_info[\"age_range\"].fillna(0,inplace = True)  # 0和null代表未知\n",
    "data_user_info[\"gender\"].fillna(0,inplace = True)  # 2和null代表未知\n",
    "\n",
    "data_user_info.info()\n",
    "gc.collect()"
   ],
   "id": "724866d9129c452e",
   "outputs": [
    {
     "name": "stdout",
     "output_type": "stream",
     "text": [
      "<class 'pandas.core.frame.DataFrame'>\n",
      "RangeIndex: 424170 entries, 0 to 424169\n",
      "Data columns (total 3 columns):\n",
      " #   Column     Non-Null Count   Dtype  \n",
      "---  ------     --------------   -----  \n",
      " 0   user_id    424170 non-null  int32  \n",
      " 1   age_range  424170 non-null  float32\n",
      " 2   gender     424170 non-null  float32\n",
      "dtypes: float32(2), int32(1)\n",
      "memory usage: 4.9 MB\n"
     ]
    },
    {
     "name": "stderr",
     "output_type": "stream",
     "text": [
      "C:\\Users\\12594\\AppData\\Local\\Temp\\ipykernel_39692\\4157245246.py:2: FutureWarning: A value is trying to be set on a copy of a DataFrame or Series through chained assignment using an inplace method.\n",
      "The behavior will change in pandas 3.0. This inplace method will never work because the intermediate object on which we are setting values always behaves as a copy.\n",
      "\n",
      "For example, when doing 'df[col].method(value, inplace=True)', try using 'df.method({col: value}, inplace=True)' or df[col] = df[col].method(value) instead, to perform the operation inplace on the original object.\n",
      "\n",
      "\n",
      "  data_user_info[\"age_range\"].fillna(0,inplace = True)  # 0和null代表未知\n",
      "C:\\Users\\12594\\AppData\\Local\\Temp\\ipykernel_39692\\4157245246.py:3: FutureWarning: A value is trying to be set on a copy of a DataFrame or Series through chained assignment using an inplace method.\n",
      "The behavior will change in pandas 3.0. This inplace method will never work because the intermediate object on which we are setting values always behaves as a copy.\n",
      "\n",
      "For example, when doing 'df[col].method(value, inplace=True)', try using 'df.method({col: value}, inplace=True)' or df[col] = df[col].method(value) instead, to perform the operation inplace on the original object.\n",
      "\n",
      "\n",
      "  data_user_info[\"gender\"].fillna(0,inplace = True)  # 2和null代表未知\n"
     ]
    },
    {
     "data": {
      "text/plain": [
       "0"
      ]
     },
     "execution_count": 10,
     "metadata": {},
     "output_type": "execute_result"
    }
   ],
   "execution_count": 10
  },
  {
   "metadata": {
    "ExecuteTime": {
     "end_time": "2025-03-13T09:10:02.323987Z",
     "start_time": "2025-03-13T09:10:01.746656Z"
    }
   },
   "cell_type": "code",
   "source": [
    "# 检查user_log空值\n",
    "data_user_log.isna().sum()"
   ],
   "id": "cc1e4b8b69dc881c",
   "outputs": [
    {
     "data": {
      "text/plain": [
       "user_id            0\n",
       "item_id            0\n",
       "cat_id             0\n",
       "merchant_id        0\n",
       "brand_id       91015\n",
       "time_stamp         0\n",
       "action_type        0\n",
       "dtype: int64"
      ]
     },
     "execution_count": 11,
     "metadata": {},
     "output_type": "execute_result"
    }
   ],
   "execution_count": 11
  },
  {
   "metadata": {
    "ExecuteTime": {
     "end_time": "2025-03-13T09:10:02.636807Z",
     "start_time": "2025-03-13T09:10:02.390590Z"
    }
   },
   "cell_type": "code",
   "source": [
    "# brand_id列有较多空值，以0填充\n",
    "data_user_log[\"brand_id\"].fillna(0, inplace = True)\n",
    "gc.collect()"
   ],
   "id": "4852d6814e51dbb",
   "outputs": [
    {
     "name": "stderr",
     "output_type": "stream",
     "text": [
      "C:\\Users\\12594\\AppData\\Local\\Temp\\ipykernel_39692\\3582130744.py:2: FutureWarning: A value is trying to be set on a copy of a DataFrame or Series through chained assignment using an inplace method.\n",
      "The behavior will change in pandas 3.0. This inplace method will never work because the intermediate object on which we are setting values always behaves as a copy.\n",
      "\n",
      "For example, when doing 'df[col].method(value, inplace=True)', try using 'df.method({col: value}, inplace=True)' or df[col] = df[col].method(value) instead, to perform the operation inplace on the original object.\n",
      "\n",
      "\n",
      "  data_user_log[\"brand_id\"].fillna(0, inplace = True)\n"
     ]
    },
    {
     "data": {
      "text/plain": [
       "12"
      ]
     },
     "execution_count": 12,
     "metadata": {},
     "output_type": "execute_result"
    }
   ],
   "execution_count": 12
  },
  {
   "metadata": {},
   "cell_type": "markdown",
   "source": "### 数据初步探索",
   "id": "5ea5947ea1d81783"
  },
  {
   "metadata": {
    "ExecuteTime": {
     "end_time": "2025-03-13T09:10:03.152280Z",
     "start_time": "2025-03-13T09:10:02.681491Z"
    }
   },
   "cell_type": "code",
   "source": [
    "# 用户年龄分布\n",
    "# 补全0-8的年龄范围，填充缺失值为0\n",
    "full_age = pd.Index(range(9), name='age_range')\n",
    "tags = data_user_info.age_range.value_counts().reindex(full_age, fill_value=0).sort_index()\n",
    "\n",
    "# 创建DataFrame并标准化列名\n",
    "age = pd.DataFrame({'age_range': tags.index, 'count': tags.values})\n",
    "\n",
    "# 绘图\n",
    "ax = sns.barplot(x=\"age_range\", y=\"count\", data=age, palette=\"Blues\")\n",
    "ax.set_title('Age Distribution', fontsize=12)\n",
    "ax.set_xlabel('Age Range')\n",
    "ax.set_ylabel('Count')\n",
    "ax.tick_params(labelsize=10)\n",
    "\n",
    "plt.show()\n",
    "gc.collect()"
   ],
   "id": "e8a41e9f2b927a26",
   "outputs": [
    {
     "name": "stderr",
     "output_type": "stream",
     "text": [
      "C:\\Users\\12594\\AppData\\Local\\Temp\\ipykernel_39692\\851446926.py:10: FutureWarning: \n",
      "\n",
      "Passing `palette` without assigning `hue` is deprecated and will be removed in v0.14.0. Assign the `x` variable to `hue` and set `legend=False` for the same effect.\n",
      "\n",
      "  ax = sns.barplot(x=\"age_range\", y=\"count\", data=age, palette=\"Blues\")\n"
     ]
    },
    {
     "data": {
      "text/plain": [
       "<Figure size 640x480 with 1 Axes>"
      ],
      "image/png": "[encoded data removed]"
     },
     "metadata": {},
     "output_type": "display_data"
    },
    {
     "data": {
      "text/plain": [
       "159"
      ]
     },
     "execution_count": 13,
     "metadata": {},
     "output_type": "execute_result"
    }
   ],
   "execution_count": 13
  },
  {
   "metadata": {
    "ExecuteTime": {
     "end_time": "2025-03-13T09:10:03.378981Z",
     "start_time": "2025-03-13T09:10:03.160122Z"
    }
   },
   "cell_type": "code",
   "source": [
    "# 用户性别分布\n",
    "sizes = data_user_info.gender.value_counts().sort_index()\n",
    "\n",
    "labels = ['女性', '男性', '未知']\n",
    "colors = ['lightcoral', 'lightskyblue',  'yellowgreen']\n",
    "explode = (0.1, 0, 0)\n",
    "\n",
    "patches,l_text,p_text = plt.pie(sizes, explode=explode, labels=labels, colors=colors, autopct='%1.1f%%', shadow=True, startangle=90)\n",
    "plt.axis('equal')\n",
    "for t in l_text:\n",
    "    t.set_size(14)\n",
    "for t in p_text:\n",
    "    t.set_size(10)\n",
    "plt.show()\n",
    "gc.collect()"
   ],
   "id": "cbabf12b19d21da5",
   "outputs": [
    {
     "data": {
      "text/plain": [
       "<Figure size 640x480 with 1 Axes>"
      ],
      "image/png": "[encoded data removed]"
     },
     "metadata": {},
     "output_type": "display_data"
    },
    {
     "data": {
      "text/plain": [
       "11"
      ]
     },
     "execution_count": 14,
     "metadata": {},
     "output_type": "execute_result"
    }
   ],
   "execution_count": 14
  },
  {
   "metadata": {},
   "cell_type": "markdown",
   "source": [
    "用户年龄1表示<18岁，2表示18-24岁，3表示25-29岁，4表示30-34岁，5表示35-39岁，6表示40-49岁，7、8表示50岁以上，0表示未知。\n",
    "性别0表示女性，1表示男性，2表示未知。\n",
    "可以看出用户主要集中在25-29岁，女性较多。\n",
    "出于隐私保护，数据采样存在部分偏差，结果并不代表天猫实际情况。"
   ],
   "id": "eede98b8f91565ca"
  },
  {
   "metadata": {
    "ExecuteTime": {
     "end_time": "2025-03-13T09:10:04.040854Z",
     "start_time": "2025-03-13T09:10:03.426688Z"
    }
   },
   "cell_type": "code",
   "source": [
    "# 用户操作类型分布\n",
    "sizes = data_user_log.action_type.value_counts().sort_index()\n",
    "# tags.plot.bar()\n",
    "labels = ['单击', '购物车', '购买', '收藏夹']  # 定义标签\n",
    "colors = ['lightskyblue', 'yellowgreen', 'gold', 'lightcoral']  # 每一块的颜色\n",
    "explode = (0.1, 0, 0, 0)  # 突出显示，这里仅仅突出显示第二块（即'Hogs'）\n",
    "\n",
    "patches,l_text,p_text = plt.pie(sizes, explode=explode, labels=labels, colors=colors, autopct='%1.1f%%', shadow=True, startangle=90)\n",
    "plt.axis('equal')  # 显示为圆（避免比例压缩为椭圆）\n",
    "for t in l_text:\n",
    "    t.set_size(14)\n",
    "for t in p_text:\n",
    "    t.set_size(10)\n",
    "plt.show()\n",
    "gc.collect()"
   ],
   "id": "bb2177cb48b55bbf",
   "outputs": [
    {
     "data": {
      "text/plain": [
       "<Figure size 640x480 with 1 Axes>"
      ],
      "image/png": "[encoded data removed]"
     },
     "metadata": {},
     "output_type": "display_data"
    },
    {
     "data": {
      "text/plain": [
       "2414"
      ]
     },
     "execution_count": 15,
     "metadata": {},
     "output_type": "execute_result"
    }
   ],
   "execution_count": 15
  },
  {
   "metadata": {},
   "cell_type": "markdown",
   "source": [
    "操作类型中0表示单击，1表示添加到购物车，2表示购买，3表示添加到收藏夹。\n",
    "大部分用户都只是进行点击操作，添加购物车的比较少，多为直接购买或添加收藏夹。"
   ],
   "id": "64b950bb25a33d78"
  },
  {
   "metadata": {},
   "cell_type": "markdown",
   "source": [
    "### 构建特征\n",
    "从业务上思考可能影响复购的因素有：\n",
    "用户特征：年龄，性别，喜好的产品类型，购买习惯（网购频率、购买点击比等），喜欢尝鲜还是习惯固定店家购买 商家特征：产品结构，流量（用户交互频次、交互天数），口碑（购买点击比），产品评价（用户复购率） * 用户-商家特征：用户喜好与商家产品的相似性\n",
    "\n",
    "因此我们针对用户、商家、用户-商家来分别构建以下特征： 交互次数、交互天数 交互过的商品、品类、品牌、用户/商家数 点击、加购物车、购买、收藏的操作次数 购买点击比 复购率 用户性别、年龄"
   ],
   "id": "b71608eb68c4a5ea"
  },
  {
   "metadata": {},
   "cell_type": "markdown",
   "source": "### 用户特征",
   "id": "fe6fdf1a827bfb7f"
  },
  {
   "metadata": {
    "ExecuteTime": {
     "end_time": "2025-03-13T09:10:05.437490Z",
     "start_time": "2025-03-13T09:10:04.047508Z"
    }
   },
   "cell_type": "code",
   "source": [
    "# 先生成 temp（假设 data_user_log 已定义）\n",
    "groups = data_user_log.groupby([\"user_id\"])\n",
    "temp = groups.size().reset_index().rename(columns={0: \"u1\"})\n",
    "\n",
    "# 转换 user_id 类型\n",
    "temp['user_id'] = temp['user_id'].astype('int64')\n",
    "data['user_id'] = data['user_id'].astype('int64')\n",
    "\n",
    "# 合并数据\n",
    "data = pd.merge(data, temp, on=\"user_id\", how=\"left\")\n",
    "\n",
    "# 检查结果\n",
    "data.head(3)\n",
    "gc.collect()"
   ],
   "id": "fca446a0cb25afec",
   "outputs": [
    {
     "data": {
      "text/plain": [
       "0"
      ]
     },
     "execution_count": 16,
     "metadata": {},
     "output_type": "execute_result"
    }
   ],
   "execution_count": 16
  },
  {
   "metadata": {
    "ExecuteTime": {
     "end_time": "2025-03-13T09:10:16.887906Z",
     "start_time": "2025-03-13T09:10:12.869382Z"
    }
   },
   "cell_type": "code",
   "source": [
    "# 统计交互天数\n",
    "temp = groups.time_stamp.nunique().reset_index().rename(columns = {\"time_stamp\":\"u2\"})\n",
    "data = data.merge(temp,on =\"user_id\",how = \"left\")\n",
    "data.head(3)\n",
    "gc.collect()"
   ],
   "id": "c7bef6f621a7a523",
   "outputs": [
    {
     "data": {
      "text/plain": [
       "0"
      ]
     },
     "execution_count": 17,
     "metadata": {},
     "output_type": "execute_result"
    }
   ],
   "execution_count": 17
  },
  {
   "metadata": {
    "ExecuteTime": {
     "end_time": "2025-03-13T09:10:43.088794Z",
     "start_time": "2025-03-13T09:10:16.898025Z"
    }
   },
   "cell_type": "code",
   "source": [
    "# 统计交互过的商品、品类、品牌、商家数\n",
    "temp = groups[['item_id','cat_id','merchant_id','brand_id']].nunique().reset_index().rename(columns={\n",
    "    'item_id':'u3','cat_id':'u4','merchant_id':'u5','brand_id':'u6'})\n",
    "data = data.merge(temp,on =\"user_id\",how = \"left\")\n",
    "data.head(3)"
   ],
   "id": "499e6346daaaf540",
   "outputs": [
    {
     "data": {
      "text/plain": [
       "   user_id  merchant_id  label origin   u1  u2   u3  u4   u5   u6\n",
       "0    34176         3906    0.0  train  451  47  256  45  109  108\n",
       "1    34176          121    0.0  train  451  47  256  45  109  108\n",
       "2    34176         4356    1.0  train  451  47  256  45  109  108"
      ],
      "text/html": [
       "<div>\n",
       "<style scoped>\n",
       "    .dataframe tbody tr th:only-of-type {\n",
       "        vertical-align: middle;\n",
       "    }\n",
       "\n",
       "    .dataframe tbody tr th {\n",
       "        vertical-align: top;\n",
       "    }\n",
       "\n",
       "    .dataframe thead th {\n",
       "        text-align: right;\n",
       "    }\n",
       "</style>\n",
       "<table border=\"1\" class=\"dataframe\">\n",
       "  <thead>\n",
       "    <tr style=\"text-align: right;\">\n",
       "      <th></th>\n",
       "      <th>user_id</th>\n",
       "      <th>merchant_id</th>\n",
       "      <th>label</th>\n",
       "      <th>origin</th>\n",
       "      <th>u1</th>\n",
       "      <th>u2</th>\n",
       "      <th>u3</th>\n",
       "      <th>u4</th>\n",
       "      <th>u5</th>\n",
       "      <th>u6</th>\n",
       "    </tr>\n",
       "  </thead>\n",
       "  <tbody>\n",
       "    <tr>\n",
       "      <th>0</th>\n",
       "      <td>34176</td>\n",
       "      <td>3906</td>\n",
       "      <td>0.0</td>\n",
       "      <td>train</td>\n",
       "      <td>451</td>\n",
       "      <td>47</td>\n",
       "      <td>256</td>\n",
       "      <td>45</td>\n",
       "      <td>109</td>\n",
       "      <td>108</td>\n",
       "    </tr>\n",
       "    <tr>\n",
       "      <th>1</th>\n",
       "      <td>34176</td>\n",
       "      <td>121</td>\n",
       "      <td>0.0</td>\n",
       "      <td>train</td>\n",
       "      <td>451</td>\n",
       "      <td>47</td>\n",
       "      <td>256</td>\n",
       "      <td>45</td>\n",
       "      <td>109</td>\n",
       "      <td>108</td>\n",
       "    </tr>\n",
       "    <tr>\n",
       "      <th>2</th>\n",
       "      <td>34176</td>\n",
       "      <td>4356</td>\n",
       "      <td>1.0</td>\n",
       "      <td>train</td>\n",
       "      <td>451</td>\n",
       "      <td>47</td>\n",
       "      <td>256</td>\n",
       "      <td>45</td>\n",
       "      <td>109</td>\n",
       "      <td>108</td>\n",
       "    </tr>\n",
       "  </tbody>\n",
       "</table>\n",
       "</div>"
      ]
     },
     "execution_count": 18,
     "metadata": {},
     "output_type": "execute_result"
    }
   ],
   "execution_count": 18
  },
  {
   "metadata": {
    "ExecuteTime": {
     "end_time": "2025-03-13T09:10:47.044417Z",
     "start_time": "2025-03-13T09:10:43.158274Z"
    }
   },
   "cell_type": "code",
   "source": [
    "# 统计点击、加购物车、购买、收藏的操作次数\n",
    "temp = groups['action_type'].value_counts().unstack().reset_index().rename(columns={0:'u7', 1:'u8', 2:'u9', 3:'u10'})\n",
    "data = data.merge(temp,on =\"user_id\",how = \"left\")\n",
    "data.head(3)"
   ],
   "id": "94274eaacff7844d",
   "outputs": [
    {
     "data": {
      "text/plain": [
       "   user_id  merchant_id  label origin   u1  u2   u3  u4   u5   u6     u7  u8  \\\n",
       "0    34176         3906    0.0  train  451  47  256  45  109  108  410.0 NaN   \n",
       "1    34176          121    0.0  train  451  47  256  45  109  108  410.0 NaN   \n",
       "2    34176         4356    1.0  train  451  47  256  45  109  108  410.0 NaN   \n",
       "\n",
       "     u9  u10  \n",
       "0  34.0  7.0  \n",
       "1  34.0  7.0  \n",
       "2  34.0  7.0  "
      ],
      "text/html": [
       "<div>\n",
       "<style scoped>\n",
       "    .dataframe tbody tr th:only-of-type {\n",
       "        vertical-align: middle;\n",
       "    }\n",
       "\n",
       "    .dataframe tbody tr th {\n",
       "        vertical-align: top;\n",
       "    }\n",
       "\n",
       "    .dataframe thead th {\n",
       "        text-align: right;\n",
       "    }\n",
       "</style>\n",
       "<table border=\"1\" class=\"dataframe\">\n",
       "  <thead>\n",
       "    <tr style=\"text-align: right;\">\n",
       "      <th></th>\n",
       "      <th>user_id</th>\n",
       "      <th>merchant_id</th>\n",
       "      <th>label</th>\n",
       "      <th>origin</th>\n",
       "      <th>u1</th>\n",
       "      <th>u2</th>\n",
       "      <th>u3</th>\n",
       "      <th>u4</th>\n",
       "      <th>u5</th>\n",
       "      <th>u6</th>\n",
       "      <th>u7</th>\n",
       "      <th>u8</th>\n",
       "      <th>u9</th>\n",
       "      <th>u10</th>\n",
       "    </tr>\n",
       "  </thead>\n",
       "  <tbody>\n",
       "    <tr>\n",
       "      <th>0</th>\n",
       "      <td>34176</td>\n",
       "      <td>3906</td>\n",
       "      <td>0.0</td>\n",
       "      <td>train</td>\n",
       "      <td>451</td>\n",
       "      <td>47</td>\n",
       "      <td>256</td>\n",
       "      <td>45</td>\n",
       "      <td>109</td>\n",
       "      <td>108</td>\n",
       "      <td>410.0</td>\n",
       "      <td>NaN</td>\n",
       "      <td>34.0</td>\n",
       "      <td>7.0</td>\n",
       "    </tr>\n",
       "    <tr>\n",
       "      <th>1</th>\n",
       "      <td>34176</td>\n",
       "      <td>121</td>\n",
       "      <td>0.0</td>\n",
       "      <td>train</td>\n",
       "      <td>451</td>\n",
       "      <td>47</td>\n",
       "      <td>256</td>\n",
       "      <td>45</td>\n",
       "      <td>109</td>\n",
       "      <td>108</td>\n",
       "      <td>410.0</td>\n",
       "      <td>NaN</td>\n",
       "      <td>34.0</td>\n",
       "      <td>7.0</td>\n",
       "    </tr>\n",
       "    <tr>\n",
       "      <th>2</th>\n",
       "      <td>34176</td>\n",
       "      <td>4356</td>\n",
       "      <td>1.0</td>\n",
       "      <td>train</td>\n",
       "      <td>451</td>\n",
       "      <td>47</td>\n",
       "      <td>256</td>\n",
       "      <td>45</td>\n",
       "      <td>109</td>\n",
       "      <td>108</td>\n",
       "      <td>410.0</td>\n",
       "      <td>NaN</td>\n",
       "      <td>34.0</td>\n",
       "      <td>7.0</td>\n",
       "    </tr>\n",
       "  </tbody>\n",
       "</table>\n",
       "</div>"
      ]
     },
     "execution_count": 19,
     "metadata": {},
     "output_type": "execute_result"
    }
   ],
   "execution_count": 19
  },
  {
   "metadata": {
    "ExecuteTime": {
     "end_time": "2025-03-13T09:10:50.380870Z",
     "start_time": "2025-03-13T09:10:47.084554Z"
    }
   },
   "cell_type": "code",
   "source": [
    "# 统计购买点击比\n",
    "data[\"u11\"] = data[\"u9\"]/data[\"u7\"]\n",
    "# 复购率 = 复购过的商家数/购买过的总商家数\n",
    "# 按user_id,merchant_id分组，购买天数>1则复购标记为1，反之为0\n",
    "groups_rb = data_user_log[data_user_log[\"action_type\"]==2].groupby([\"user_id\",\"merchant_id\"])\n",
    "temp_rb = groups_rb.time_stamp.nunique().reset_index().rename(columns = {\"time_stamp\":\"n_days\"})\n",
    "temp_rb[\"label_um\"] = [(1 if x > 1 else 0) for x in temp_rb[\"n_days\"]]\n",
    "\n",
    "# 与data进行匹配\n",
    "temp = temp_rb.groupby([\"user_id\",\"label_um\"]).size().unstack(fill_value=0).reset_index()\n",
    "temp[\"u12\"] = temp[1]/(temp[0]+temp[1])\n",
    "\n",
    "data = data.merge(temp[[\"user_id\",\"u12\"]],on =\"user_id\",how = \"left\")\n",
    "data.head(3)\n",
    "gc.collect()"
   ],
   "id": "2adf7305e6b64127",
   "outputs": [
    {
     "data": {
      "text/plain": [
       "12"
      ]
     },
     "execution_count": 20,
     "metadata": {},
     "output_type": "execute_result"
    }
   ],
   "execution_count": 20
  },
  {
   "metadata": {
    "ExecuteTime": {
     "end_time": "2025-03-13T09:10:50.946525Z",
     "start_time": "2025-03-13T09:10:50.431335Z"
    }
   },
   "cell_type": "code",
   "source": [
    "# 性别、年龄独热编码处理\n",
    "data = data.merge(data_user_info,on =\"user_id\",how = \"left\")\n",
    "\n",
    "temp = pd.get_dummies(data[\"age_range\"],prefix = \"age\")\n",
    "temp2 = pd.get_dummies(data[\"gender\"],prefix = \"gender\")\n",
    "\n",
    "data = pd.concat([data,temp,temp2],axis = 1)\n",
    "data.drop(columns = [\"age_range\",\"gender\"],inplace = True)\n",
    "data.head(3)\n",
    "gc.collect()"
   ],
   "id": "573426205df1a578",
   "outputs": [
    {
     "data": {
      "text/plain": [
       "12"
      ]
     },
     "execution_count": 21,
     "metadata": {},
     "output_type": "execute_result"
    }
   ],
   "execution_count": 21
  },
  {
   "metadata": {},
   "cell_type": "markdown",
   "source": "### 商家特征",
   "id": "1ba0b5d79eeba2c"
  },
  {
   "metadata": {
    "ExecuteTime": {
     "end_time": "2025-03-13T09:11:06.848449Z",
     "start_time": "2025-03-13T09:10:50.991627Z"
    }
   },
   "cell_type": "code",
   "source": [
    "# 按merchant_id分组\n",
    "groups = data_user_log.groupby([\"merchant_id\"])\n",
    "# 统计交互总次数\n",
    "temp = groups.size().reset_index().rename(columns = {0:\"m1\"})\n",
    "data = pd.merge(data,temp, on =\"merchant_id\",how = \"left\")\n",
    "data.head(3)\n",
    "# 统计交互天数\n",
    "temp = groups.time_stamp.nunique().reset_index().rename(columns = {\"time_stamp\":\"m2\"})\n",
    "data = data.merge(temp,on =\"merchant_id\",how = \"left\")\n",
    "data.head(3)\n",
    "# 统计交互过的商品、品类、品牌、用户数\n",
    "temp = groups[['item_id','cat_id','user_id','brand_id']].nunique().reset_index().rename(columns={\n",
    "    'item_id':'m3','cat_id':'m4','user_id':'m5','brand_id':'m6'})\n",
    "data = data.merge(temp,on =\"merchant_id\",how = \"left\")\n",
    "data.head(3)\n",
    "gc.collect()"
   ],
   "id": "2e3294a0b91cc24e",
   "outputs": [
    {
     "data": {
      "text/plain": [
       "12"
      ]
     },
     "execution_count": 22,
     "metadata": {},
     "output_type": "execute_result"
    }
   ],
   "execution_count": 22
  },
  {
   "metadata": {
    "ExecuteTime": {
     "end_time": "2025-03-13T09:11:09.777557Z",
     "start_time": "2025-03-13T09:11:06.856473Z"
    }
   },
   "cell_type": "code",
   "source": [
    "# 统计点击、加购物车、购买、收藏的操作次数\n",
    "temp = groups['action_type'].value_counts().unstack().reset_index().rename(columns={0:'m7', 1:'m8', 2:'m9', 3:'m10'})\n",
    "data = data.merge(temp,on =\"merchant_id\",how = \"left\")\n",
    "data.head(3)\n",
    "gc.collect()"
   ],
   "id": "29b21e61b1d21d6",
   "outputs": [
    {
     "data": {
      "text/plain": [
       "0"
      ]
     },
     "execution_count": 23,
     "metadata": {},
     "output_type": "execute_result"
    }
   ],
   "execution_count": 23
  },
  {
   "metadata": {
    "ExecuteTime": {
     "end_time": "2025-03-13T09:11:43.363029Z",
     "start_time": "2025-03-13T09:11:41.771342Z"
    }
   },
   "cell_type": "code",
   "source": [
    "# 统计购买点击比\n",
    "data[\"m11\"] = data[\"m9\"]/data[\"m7\"]\n",
    "# 复购率 = 复购过的用户数/购买过的总用户数\n",
    "# 按user_id,merchant_id分组，购买天数>1则复购标记为1，反之为0（在上一步已计算）\n",
    "# 与data进行匹配\n",
    "temp = temp_rb.groupby([\"merchant_id\",\"label_um\"]).size().unstack(fill_value=0).reset_index()\n",
    "temp[\"m12\"] = temp[1]/(temp[0]+temp[1])\n",
    "\n",
    "data = data.merge(temp[[\"merchant_id\",\"m12\"]],on =\"merchant_id\",how = \"left\")\n",
    "data.head(3)\n",
    "gc.collect()"
   ],
   "id": "f6fb17ee387b0da2",
   "outputs": [
    {
     "data": {
      "text/plain": [
       "0"
      ]
     },
     "execution_count": 24,
     "metadata": {},
     "output_type": "execute_result"
    }
   ],
   "execution_count": 24
  },
  {
   "metadata": {},
   "cell_type": "markdown",
   "source": "### 用户商家特征",
   "id": "7496565d5a2d451f"
  },
  {
   "metadata": {
    "ExecuteTime": {
     "end_time": "2025-03-13T09:11:58.430626Z",
     "start_time": "2025-03-13T09:11:43.440608Z"
    }
   },
   "cell_type": "code",
   "source": [
    "# 按user_id,merchant_id分组\n",
    "groups = data_user_log.groupby(['user_id','merchant_id'])\n",
    "# 统计交互总次数\n",
    "temp = groups.size().reset_index().rename(columns = {0:\"um1\"})\n",
    "data = pd.merge(data,temp, on =[\"merchant_id\",\"user_id\"],how = \"left\")\n",
    "data.head(3)"
   ],
   "id": "f327c9b8cfdb543c",
   "outputs": [
    {
     "data": {
      "text/plain": [
       "   user_id  merchant_id  label origin   u1  u2   u3  u4   u5   u6     u7  u8  \\\n",
       "0    34176         3906    0.0  train  451  47  256  45  109  108  410.0 NaN   \n",
       "1    34176          121    0.0  train  451  47  256  45  109  108  410.0 NaN   \n",
       "2    34176         4356    1.0  train  451  47  256  45  109  108  410.0 NaN   \n",
       "\n",
       "     u9  u10       u11  ...  gender_1.0  gender_2.0     m1   m2    m3  m4  \\\n",
       "0  34.0  7.0  0.082927  ...       False       False  16269  185   308  20   \n",
       "1  34.0  7.0  0.082927  ...       False       False  79865  185  1179  26   \n",
       "2  34.0  7.0  0.082927  ...       False       False   7269  155    67  15   \n",
       "\n",
       "      m5  m6       m7     m8      m9     m10       m11       m12  um1  \n",
       "0   5819   2  14870.0   28.0   410.0   961.0  0.027572  0.048387   39  \n",
       "1  10931   2  72265.0  121.0  4780.0  2699.0  0.066145  0.053014   14  \n",
       "2   2281   2   6094.0   16.0   963.0   196.0  0.158024  0.084444   18  \n",
       "\n",
       "[3 rows x 41 columns]"
      ],
      "text/html": [
       "<div>\n",
       "<style scoped>\n",
       "    .dataframe tbody tr th:only-of-type {\n",
       "        vertical-align: middle;\n",
       "    }\n",
       "\n",
       "    .dataframe tbody tr th {\n",
       "        vertical-align: top;\n",
       "    }\n",
       "\n",
       "    .dataframe thead th {\n",
       "        text-align: right;\n",
       "    }\n",
       "</style>\n",
       "<table border=\"1\" class=\"dataframe\">\n",
       "  <thead>\n",
       "    <tr style=\"text-align: right;\">\n",
       "      <th></th>\n",
       "      <th>user_id</th>\n",
       "      <th>merchant_id</th>\n",
       "      <th>label</th>\n",
       "      <th>origin</th>\n",
       "      <th>u1</th>\n",
       "      <th>u2</th>\n",
       "      <th>u3</th>\n",
       "      <th>u4</th>\n",
       "      <th>u5</th>\n",
       "      <th>u6</th>\n",
       "      <th>u7</th>\n",
       "      <th>u8</th>\n",
       "      <th>u9</th>\n",
       "      <th>u10</th>\n",
       "      <th>u11</th>\n",
       "      <th>...</th>\n",
       "      <th>gender_1.0</th>\n",
       "      <th>gender_2.0</th>\n",
       "      <th>m1</th>\n",
       "      <th>m2</th>\n",
       "      <th>m3</th>\n",
       "      <th>m4</th>\n",
       "      <th>m5</th>\n",
       "      <th>m6</th>\n",
       "      <th>m7</th>\n",
       "      <th>m8</th>\n",
       "      <th>m9</th>\n",
       "      <th>m10</th>\n",
       "      <th>m11</th>\n",
       "      <th>m12</th>\n",
       "      <th>um1</th>\n",
       "    </tr>\n",
       "  </thead>\n",
       "  <tbody>\n",
       "    <tr>\n",
       "      <th>0</th>\n",
       "      <td>34176</td>\n",
       "      <td>3906</td>\n",
       "      <td>0.0</td>\n",
       "      <td>train</td>\n",
       "      <td>451</td>\n",
       "      <td>47</td>\n",
       "      <td>256</td>\n",
       "      <td>45</td>\n",
       "      <td>109</td>\n",
       "      <td>108</td>\n",
       "      <td>410.0</td>\n",
       "      <td>NaN</td>\n",
       "      <td>34.0</td>\n",
       "      <td>7.0</td>\n",
       "      <td>0.082927</td>\n",
       "      <td>...</td>\n",
       "      <td>False</td>\n",
       "      <td>False</td>\n",
       "      <td>16269</td>\n",
       "      <td>185</td>\n",
       "      <td>308</td>\n",
       "      <td>20</td>\n",
       "      <td>5819</td>\n",
       "      <td>2</td>\n",
       "      <td>14870.0</td>\n",
       "      <td>28.0</td>\n",
       "      <td>410.0</td>\n",
       "      <td>961.0</td>\n",
       "      <td>0.027572</td>\n",
       "      <td>0.048387</td>\n",
       "      <td>39</td>\n",
       "    </tr>\n",
       "    <tr>\n",
       "      <th>1</th>\n",
       "      <td>34176</td>\n",
       "      <td>121</td>\n",
       "      <td>0.0</td>\n",
       "      <td>train</td>\n",
       "      <td>451</td>\n",
       "      <td>47</td>\n",
       "      <td>256</td>\n",
       "      <td>45</td>\n",
       "      <td>109</td>\n",
       "      <td>108</td>\n",
       "      <td>410.0</td>\n",
       "      <td>NaN</td>\n",
       "      <td>34.0</td>\n",
       "      <td>7.0</td>\n",
       "      <td>0.082927</td>\n",
       "      <td>...</td>\n",
       "      <td>False</td>\n",
       "      <td>False</td>\n",
       "      <td>79865</td>\n",
       "      <td>185</td>\n",
       "      <td>1179</td>\n",
       "      <td>26</td>\n",
       "      <td>10931</td>\n",
       "      <td>2</td>\n",
       "      <td>72265.0</td>\n",
       "      <td>121.0</td>\n",
       "      <td>4780.0</td>\n",
       "      <td>2699.0</td>\n",
       "      <td>0.066145</td>\n",
       "      <td>0.053014</td>\n",
       "      <td>14</td>\n",
       "    </tr>\n",
       "    <tr>\n",
       "      <th>2</th>\n",
       "      <td>34176</td>\n",
       "      <td>4356</td>\n",
       "      <td>1.0</td>\n",
       "      <td>train</td>\n",
       "      <td>451</td>\n",
       "      <td>47</td>\n",
       "      <td>256</td>\n",
       "      <td>45</td>\n",
       "      <td>109</td>\n",
       "      <td>108</td>\n",
       "      <td>410.0</td>\n",
       "      <td>NaN</td>\n",
       "      <td>34.0</td>\n",
       "      <td>7.0</td>\n",
       "      <td>0.082927</td>\n",
       "      <td>...</td>\n",
       "      <td>False</td>\n",
       "      <td>False</td>\n",
       "      <td>7269</td>\n",
       "      <td>155</td>\n",
       "      <td>67</td>\n",
       "      <td>15</td>\n",
       "      <td>2281</td>\n",
       "      <td>2</td>\n",
       "      <td>6094.0</td>\n",
       "      <td>16.0</td>\n",
       "      <td>963.0</td>\n",
       "      <td>196.0</td>\n",
       "      <td>0.158024</td>\n",
       "      <td>0.084444</td>\n",
       "      <td>18</td>\n",
       "    </tr>\n",
       "  </tbody>\n",
       "</table>\n",
       "<p>3 rows × 41 columns</p>\n",
       "</div>"
      ]
     },
     "execution_count": 25,
     "metadata": {},
     "output_type": "execute_result"
    }
   ],
   "execution_count": 25
  },
  {
   "metadata": {
    "ExecuteTime": {
     "end_time": "2025-03-13T09:12:09.659598Z",
     "start_time": "2025-03-13T09:11:58.495854Z"
    }
   },
   "cell_type": "code",
   "source": [
    "# 统计交互天数\n",
    "temp = groups.time_stamp.nunique().reset_index().rename(columns = {\"time_stamp\":\"um2\"})\n",
    "data = data.merge(temp,on =[\"merchant_id\",\"user_id\"],how = \"left\")\n",
    "data.head(3)"
   ],
   "id": "1364c800611e890c",
   "outputs": [
    {
     "data": {
      "text/plain": [
       "   user_id  merchant_id  label origin   u1  u2   u3  u4   u5   u6     u7  u8  \\\n",
       "0    34176         3906    0.0  train  451  47  256  45  109  108  410.0 NaN   \n",
       "1    34176          121    0.0  train  451  47  256  45  109  108  410.0 NaN   \n",
       "2    34176         4356    1.0  train  451  47  256  45  109  108  410.0 NaN   \n",
       "\n",
       "     u9  u10       u11  ...  gender_2.0     m1   m2    m3  m4     m5  m6  \\\n",
       "0  34.0  7.0  0.082927  ...       False  16269  185   308  20   5819   2   \n",
       "1  34.0  7.0  0.082927  ...       False  79865  185  1179  26  10931   2   \n",
       "2  34.0  7.0  0.082927  ...       False   7269  155    67  15   2281   2   \n",
       "\n",
       "        m7     m8      m9     m10       m11       m12  um1  um2  \n",
       "0  14870.0   28.0   410.0   961.0  0.027572  0.048387   39    9  \n",
       "1  72265.0  121.0  4780.0  2699.0  0.066145  0.053014   14    3  \n",
       "2   6094.0   16.0   963.0   196.0  0.158024  0.084444   18    2  \n",
       "\n",
       "[3 rows x 42 columns]"
      ],
      "text/html": [
       "<div>\n",
       "<style scoped>\n",
       "    .dataframe tbody tr th:only-of-type {\n",
       "        vertical-align: middle;\n",
       "    }\n",
       "\n",
       "    .dataframe tbody tr th {\n",
       "        vertical-align: top;\n",
       "    }\n",
       "\n",
       "    .dataframe thead th {\n",
       "        text-align: right;\n",
       "    }\n",
       "</style>\n",
       "<table border=\"1\" class=\"dataframe\">\n",
       "  <thead>\n",
       "    <tr style=\"text-align: right;\">\n",
       "      <th></th>\n",
       "      <th>user_id</th>\n",
       "      <th>merchant_id</th>\n",
       "      <th>label</th>\n",
       "      <th>origin</th>\n",
       "      <th>u1</th>\n",
       "      <th>u2</th>\n",
       "      <th>u3</th>\n",
       "      <th>u4</th>\n",
       "      <th>u5</th>\n",
       "      <th>u6</th>\n",
       "      <th>u7</th>\n",
       "      <th>u8</th>\n",
       "      <th>u9</th>\n",
       "      <th>u10</th>\n",
       "      <th>u11</th>\n",
       "      <th>...</th>\n",
       "      <th>gender_2.0</th>\n",
       "      <th>m1</th>\n",
       "      <th>m2</th>\n",
       "      <th>m3</th>\n",
       "      <th>m4</th>\n",
       "      <th>m5</th>\n",
       "      <th>m6</th>\n",
       "      <th>m7</th>\n",
       "      <th>m8</th>\n",
       "      <th>m9</th>\n",
       "      <th>m10</th>\n",
       "      <th>m11</th>\n",
       "      <th>m12</th>\n",
       "      <th>um1</th>\n",
       "      <th>um2</th>\n",
       "    </tr>\n",
       "  </thead>\n",
       "  <tbody>\n",
       "    <tr>\n",
       "      <th>0</th>\n",
       "      <td>34176</td>\n",
       "      <td>3906</td>\n",
       "      <td>0.0</td>\n",
       "      <td>train</td>\n",
       "      <td>451</td>\n",
       "      <td>47</td>\n",
       "      <td>256</td>\n",
       "      <td>45</td>\n",
       "      <td>109</td>\n",
       "      <td>108</td>\n",
       "      <td>410.0</td>\n",
       "      <td>NaN</td>\n",
       "      <td>34.0</td>\n",
       "      <td>7.0</td>\n",
       "      <td>0.082927</td>\n",
       "      <td>...</td>\n",
       "      <td>False</td>\n",
       "      <td>16269</td>\n",
       "      <td>185</td>\n",
       "      <td>308</td>\n",
       "      <td>20</td>\n",
       "      <td>5819</td>\n",
       "      <td>2</td>\n",
       "      <td>14870.0</td>\n",
       "      <td>28.0</td>\n",
       "      <td>410.0</td>\n",
       "      <td>961.0</td>\n",
       "      <td>0.027572</td>\n",
       "      <td>0.048387</td>\n",
       "      <td>39</td>\n",
       "      <td>9</td>\n",
       "    </tr>\n",
       "    <tr>\n",
       "      <th>1</th>\n",
       "      <td>34176</td>\n",
       "      <td>121</td>\n",
       "      <td>0.0</td>\n",
       "      <td>train</td>\n",
       "      <td>451</td>\n",
       "      <td>47</td>\n",
       "      <td>256</td>\n",
       "      <td>45</td>\n",
       "      <td>109</td>\n",
       "      <td>108</td>\n",
       "      <td>410.0</td>\n",
       "      <td>NaN</td>\n",
       "      <td>34.0</td>\n",
       "      <td>7.0</td>\n",
       "      <td>0.082927</td>\n",
       "      <td>...</td>\n",
       "      <td>False</td>\n",
       "      <td>79865</td>\n",
       "      <td>185</td>\n",
       "      <td>1179</td>\n",
       "      <td>26</td>\n",
       "      <td>10931</td>\n",
       "      <td>2</td>\n",
       "      <td>72265.0</td>\n",
       "      <td>121.0</td>\n",
       "      <td>4780.0</td>\n",
       "      <td>2699.0</td>\n",
       "      <td>0.066145</td>\n",
       "      <td>0.053014</td>\n",
       "      <td>14</td>\n",
       "      <td>3</td>\n",
       "    </tr>\n",
       "    <tr>\n",
       "      <th>2</th>\n",
       "      <td>34176</td>\n",
       "      <td>4356</td>\n",
       "      <td>1.0</td>\n",
       "      <td>train</td>\n",
       "      <td>451</td>\n",
       "      <td>47</td>\n",
       "      <td>256</td>\n",
       "      <td>45</td>\n",
       "      <td>109</td>\n",
       "      <td>108</td>\n",
       "      <td>410.0</td>\n",
       "      <td>NaN</td>\n",
       "      <td>34.0</td>\n",
       "      <td>7.0</td>\n",
       "      <td>0.082927</td>\n",
       "      <td>...</td>\n",
       "      <td>False</td>\n",
       "      <td>7269</td>\n",
       "      <td>155</td>\n",
       "      <td>67</td>\n",
       "      <td>15</td>\n",
       "      <td>2281</td>\n",
       "      <td>2</td>\n",
       "      <td>6094.0</td>\n",
       "      <td>16.0</td>\n",
       "      <td>963.0</td>\n",
       "      <td>196.0</td>\n",
       "      <td>0.158024</td>\n",
       "      <td>0.084444</td>\n",
       "      <td>18</td>\n",
       "      <td>2</td>\n",
       "    </tr>\n",
       "  </tbody>\n",
       "</table>\n",
       "<p>3 rows × 42 columns</p>\n",
       "</div>"
      ]
     },
     "execution_count": 26,
     "metadata": {},
     "output_type": "execute_result"
    }
   ],
   "execution_count": 26
  },
  {
   "metadata": {
    "ExecuteTime": {
     "end_time": "2025-03-13T09:12:38.704132Z",
     "start_time": "2025-03-13T09:12:09.712511Z"
    }
   },
   "cell_type": "code",
   "source": [
    "# 统计交互过的商品、品类、品牌数\n",
    "temp = groups[['item_id','cat_id','brand_id']].nunique().reset_index().rename(columns={\n",
    "    'item_id':'um3','cat_id':'um4','brand_id':'um5'})\n",
    "data = data.merge(temp,on =[\"merchant_id\",\"user_id\"],how = \"left\")\n",
    "data.head(3)\n",
    "gc.collect()"
   ],
   "id": "93a9843a2f2d108b",
   "outputs": [
    {
     "data": {
      "text/plain": [
       "12"
      ]
     },
     "execution_count": 27,
     "metadata": {},
     "output_type": "execute_result"
    }
   ],
   "execution_count": 27
  },
  {
   "metadata": {
    "ExecuteTime": {
     "end_time": "2025-03-13T09:13:14.005802Z",
     "start_time": "2025-03-13T09:12:38.764303Z"
    }
   },
   "cell_type": "code",
   "source": [
    "# 统计点击、加购物车、购买、收藏的操作次数\n",
    "temp = groups['action_type'].value_counts().unstack().reset_index().rename(columns={0:'um6', 1:'um7', 2:'um8', 3:'um9'})\n",
    "data = data.merge(temp,on =[\"merchant_id\",\"user_id\"],how = \"left\")\n",
    "data.head(3)"
   ],
   "id": "a578594c9ec1cec",
   "outputs": [
    {
     "data": {
      "text/plain": [
       "   user_id  merchant_id  label origin   u1  u2   u3  u4   u5   u6     u7  u8  \\\n",
       "0    34176         3906    0.0  train  451  47  256  45  109  108  410.0 NaN   \n",
       "1    34176          121    0.0  train  451  47  256  45  109  108  410.0 NaN   \n",
       "2    34176         4356    1.0  train  451  47  256  45  109  108  410.0 NaN   \n",
       "\n",
       "     u9  u10       u11  ...       m7     m8      m9     m10       m11  \\\n",
       "0  34.0  7.0  0.082927  ...  14870.0   28.0   410.0   961.0  0.027572   \n",
       "1  34.0  7.0  0.082927  ...  72265.0  121.0  4780.0  2699.0  0.066145   \n",
       "2  34.0  7.0  0.082927  ...   6094.0   16.0   963.0   196.0  0.158024   \n",
       "\n",
       "        m12  um1  um2  um3  um4  um5   um6  um7  um8  um9  \n",
       "0  0.048387   39    9   20    6    1  36.0  NaN  1.0  2.0  \n",
       "1  0.053014   14    3    1    1    1  13.0  NaN  1.0  NaN  \n",
       "2  0.084444   18    2    2    1    1  12.0  NaN  6.0  NaN  \n",
       "\n",
       "[3 rows x 49 columns]"
      ],
      "text/html": [
       "<div>\n",
       "<style scoped>\n",
       "    .dataframe tbody tr th:only-of-type {\n",
       "        vertical-align: middle;\n",
       "    }\n",
       "\n",
       "    .dataframe tbody tr th {\n",
       "        vertical-align: top;\n",
       "    }\n",
       "\n",
       "    .dataframe thead th {\n",
       "        text-align: right;\n",
       "    }\n",
       "</style>\n",
       "<table border=\"1\" class=\"dataframe\">\n",
       "  <thead>\n",
       "    <tr style=\"text-align: right;\">\n",
       "      <th></th>\n",
       "      <th>user_id</th>\n",
       "      <th>merchant_id</th>\n",
       "      <th>label</th>\n",
       "      <th>origin</th>\n",
       "      <th>u1</th>\n",
       "      <th>u2</th>\n",
       "      <th>u3</th>\n",
       "      <th>u4</th>\n",
       "      <th>u5</th>\n",
       "      <th>u6</th>\n",
       "      <th>u7</th>\n",
       "      <th>u8</th>\n",
       "      <th>u9</th>\n",
       "      <th>u10</th>\n",
       "      <th>u11</th>\n",
       "      <th>...</th>\n",
       "      <th>m7</th>\n",
       "      <th>m8</th>\n",
       "      <th>m9</th>\n",
       "      <th>m10</th>\n",
       "      <th>m11</th>\n",
       "      <th>m12</th>\n",
       "      <th>um1</th>\n",
       "      <th>um2</th>\n",
       "      <th>um3</th>\n",
       "      <th>um4</th>\n",
       "      <th>um5</th>\n",
       "      <th>um6</th>\n",
       "      <th>um7</th>\n",
       "      <th>um8</th>\n",
       "      <th>um9</th>\n",
       "    </tr>\n",
       "  </thead>\n",
       "  <tbody>\n",
       "    <tr>\n",
       "      <th>0</th>\n",
       "      <td>34176</td>\n",
       "      <td>3906</td>\n",
       "      <td>0.0</td>\n",
       "      <td>train</td>\n",
       "      <td>451</td>\n",
       "      <td>47</td>\n",
       "      <td>256</td>\n",
       "      <td>45</td>\n",
       "      <td>109</td>\n",
       "      <td>108</td>\n",
       "      <td>410.0</td>\n",
       "      <td>NaN</td>\n",
       "      <td>34.0</td>\n",
       "      <td>7.0</td>\n",
       "      <td>0.082927</td>\n",
       "      <td>...</td>\n",
       "      <td>14870.0</td>\n",
       "      <td>28.0</td>\n",
       "      <td>410.0</td>\n",
       "      <td>961.0</td>\n",
       "      <td>0.027572</td>\n",
       "      <td>0.048387</td>\n",
       "      <td>39</td>\n",
       "      <td>9</td>\n",
       "      <td>20</td>\n",
       "      <td>6</td>\n",
       "      <td>1</td>\n",
       "      <td>36.0</td>\n",
       "      <td>NaN</td>\n",
       "      <td>1.0</td>\n",
       "      <td>2.0</td>\n",
       "    </tr>\n",
       "    <tr>\n",
       "      <th>1</th>\n",
       "      <td>34176</td>\n",
       "      <td>121</td>\n",
       "      <td>0.0</td>\n",
       "      <td>train</td>\n",
       "      <td>451</td>\n",
       "      <td>47</td>\n",
       "      <td>256</td>\n",
       "      <td>45</td>\n",
       "      <td>109</td>\n",
       "      <td>108</td>\n",
       "      <td>410.0</td>\n",
       "      <td>NaN</td>\n",
       "      <td>34.0</td>\n",
       "      <td>7.0</td>\n",
       "      <td>0.082927</td>\n",
       "      <td>...</td>\n",
       "      <td>72265.0</td>\n",
       "      <td>121.0</td>\n",
       "      <td>4780.0</td>\n",
       "      <td>2699.0</td>\n",
       "      <td>0.066145</td>\n",
       "      <td>0.053014</td>\n",
       "      <td>14</td>\n",
       "      <td>3</td>\n",
       "      <td>1</td>\n",
       "      <td>1</td>\n",
       "      <td>1</td>\n",
       "      <td>13.0</td>\n",
       "      <td>NaN</td>\n",
       "      <td>1.0</td>\n",
       "      <td>NaN</td>\n",
       "    </tr>\n",
       "    <tr>\n",
       "      <th>2</th>\n",
       "      <td>34176</td>\n",
       "      <td>4356</td>\n",
       "      <td>1.0</td>\n",
       "      <td>train</td>\n",
       "      <td>451</td>\n",
       "      <td>47</td>\n",
       "      <td>256</td>\n",
       "      <td>45</td>\n",
       "      <td>109</td>\n",
       "      <td>108</td>\n",
       "      <td>410.0</td>\n",
       "      <td>NaN</td>\n",
       "      <td>34.0</td>\n",
       "      <td>7.0</td>\n",
       "      <td>0.082927</td>\n",
       "      <td>...</td>\n",
       "      <td>6094.0</td>\n",
       "      <td>16.0</td>\n",
       "      <td>963.0</td>\n",
       "      <td>196.0</td>\n",
       "      <td>0.158024</td>\n",
       "      <td>0.084444</td>\n",
       "      <td>18</td>\n",
       "      <td>2</td>\n",
       "      <td>2</td>\n",
       "      <td>1</td>\n",
       "      <td>1</td>\n",
       "      <td>12.0</td>\n",
       "      <td>NaN</td>\n",
       "      <td>6.0</td>\n",
       "      <td>NaN</td>\n",
       "    </tr>\n",
       "  </tbody>\n",
       "</table>\n",
       "<p>3 rows × 49 columns</p>\n",
       "</div>"
      ]
     },
     "execution_count": 28,
     "metadata": {},
     "output_type": "execute_result"
    }
   ],
   "execution_count": 28
  },
  {
   "metadata": {
    "ExecuteTime": {
     "end_time": "2025-03-13T09:13:25.370253Z",
     "start_time": "2025-03-13T09:13:14.052301Z"
    }
   },
   "cell_type": "code",
   "source": [
    "# 统计购买点击比\n",
    "data[\"um10\"] = data[\"um8\"]/data[\"um6\"]\n",
    "# 将提取好的特征保存，待下次读取\n",
    "data.to_csv(\"data_features.csv\",index=False)"
   ],
   "id": "1d068d6d17ed6df0",
   "outputs": [],
   "execution_count": 29
  },
  {
   "metadata": {},
   "cell_type": "markdown",
   "source": [
    "### 建模预测\n",
    "这里我们测试几种模型，并对比和观察各个模型的表现： 二元逻辑回归：针对二分类问题的经典模型，训练快 随机森林：可处理高维数据、大数据集，训练快 LightGBM：内存消耗少，可直接处理缺失值，训练快 XGBoost：支持并行化，通过正则化防止过拟合，可处理缺失值，适用于中低维数据"
   ],
   "id": "bc500bc8faceb661"
  },
  {
   "metadata": {},
   "cell_type": "markdown",
   "source": "### 建模预处理",
   "id": "208fee5b8b5c32c5"
  },
  {
   "metadata": {
    "ExecuteTime": {
     "end_time": "2025-03-13T09:13:29.341735Z",
     "start_time": "2025-03-13T09:13:25.430807Z"
    }
   },
   "cell_type": "code",
   "source": [
    "# # 读取之前储存的特征\n",
    "data = pd.read_csv(\"data_features.csv\")\n",
    "data.info()\n",
    "gc.collect()"
   ],
   "id": "496c238acd3e5501",
   "outputs": [
    {
     "name": "stdout",
     "output_type": "stream",
     "text": [
      "<class 'pandas.core.frame.DataFrame'>\n",
      "RangeIndex: 522341 entries, 0 to 522340\n",
      "Data columns (total 50 columns):\n",
      " #   Column       Non-Null Count   Dtype  \n",
      "---  ------       --------------   -----  \n",
      " 0   user_id      522341 non-null  int64  \n",
      " 1   merchant_id  522341 non-null  int64  \n",
      " 2   label        260864 non-null  float64\n",
      " 3   origin       522341 non-null  object \n",
      " 4   u1           522341 non-null  int64  \n",
      " 5   u2           522341 non-null  int64  \n",
      " 6   u3           522341 non-null  int64  \n",
      " 7   u4           522341 non-null  int64  \n",
      " 8   u5           522341 non-null  int64  \n",
      " 9   u6           522341 non-null  int64  \n",
      " 10  u7           521981 non-null  float64\n",
      " 11  u8           38179 non-null   float64\n",
      " 12  u9           522341 non-null  float64\n",
      " 13  u10          294859 non-null  float64\n",
      " 14  u11          521981 non-null  float64\n",
      " 15  u12          522341 non-null  float64\n",
      " 16  age_0.0      522341 non-null  bool   \n",
      " 17  age_1.0      522341 non-null  bool   \n",
      " 18  age_2.0      522341 non-null  bool   \n",
      " 19  age_3.0      522341 non-null  bool   \n",
      " 20  age_4.0      522341 non-null  bool   \n",
      " 21  age_5.0      522341 non-null  bool   \n",
      " 22  age_6.0      522341 non-null  bool   \n",
      " 23  age_7.0      522341 non-null  bool   \n",
      " 24  age_8.0      522341 non-null  bool   \n",
      " 25  gender_0.0   522341 non-null  bool   \n",
      " 26  gender_1.0   522341 non-null  bool   \n",
      " 27  gender_2.0   522341 non-null  bool   \n",
      " 28  m1           522341 non-null  int64  \n",
      " 29  m2           522341 non-null  int64  \n",
      " 30  m3           522341 non-null  int64  \n",
      " 31  m4           522341 non-null  int64  \n",
      " 32  m5           522341 non-null  int64  \n",
      " 33  m6           522341 non-null  int64  \n",
      " 34  m7           522341 non-null  float64\n",
      " 35  m8           518289 non-null  float64\n",
      " 36  m9           522341 non-null  float64\n",
      " 37  m10          522341 non-null  float64\n",
      " 38  m11          522341 non-null  float64\n",
      " 39  m12          522341 non-null  float64\n",
      " 40  um1          522341 non-null  int64  \n",
      " 41  um2          522341 non-null  int64  \n",
      " 42  um3          522341 non-null  int64  \n",
      " 43  um4          522341 non-null  int64  \n",
      " 44  um5          522341 non-null  int64  \n",
      " 45  um6          462933 non-null  float64\n",
      " 46  um7          9394 non-null    float64\n",
      " 47  um8          522341 non-null  float64\n",
      " 48  um9          96551 non-null   float64\n",
      " 49  um10         462933 non-null  float64\n",
      "dtypes: bool(12), float64(18), int64(19), object(1)\n",
      "memory usage: 157.4+ MB\n"
     ]
    },
    {
     "data": {
      "text/plain": [
       "12"
      ]
     },
     "execution_count": 30,
     "metadata": {},
     "output_type": "execute_result"
    }
   ],
   "execution_count": 30
  },
  {
   "metadata": {
    "ExecuteTime": {
     "end_time": "2025-03-13T09:13:30.224340Z",
     "start_time": "2025-03-13T09:13:29.382050Z"
    }
   },
   "cell_type": "code",
   "source": [
    "# 数据压缩\n",
    "fcols = data.select_dtypes('float').columns\n",
    "icols = data.select_dtypes('integer').columns\n",
    "data[fcols] = data[fcols].apply(pd.to_numeric, downcast='float')\n",
    "data[icols] = data[icols].apply(pd.to_numeric, downcast='integer')\n",
    "\n",
    "data.info()"
   ],
   "id": "719a4bc5edc24481",
   "outputs": [
    {
     "name": "stdout",
     "output_type": "stream",
     "text": [
      "<class 'pandas.core.frame.DataFrame'>\n",
      "RangeIndex: 522341 entries, 0 to 522340\n",
      "Data columns (total 50 columns):\n",
      " #   Column       Non-Null Count   Dtype  \n",
      "---  ------       --------------   -----  \n",
      " 0   user_id      522341 non-null  int32  \n",
      " 1   merchant_id  522341 non-null  int16  \n",
      " 2   label        260864 non-null  float32\n",
      " 3   origin       522341 non-null  object \n",
      " 4   u1           522341 non-null  int16  \n",
      " 5   u2           522341 non-null  int16  \n",
      " 6   u3           522341 non-null  int16  \n",
      " 7   u4           522341 non-null  int16  \n",
      " 8   u5           522341 non-null  int16  \n",
      " 9   u6           522341 non-null  int16  \n",
      " 10  u7           521981 non-null  float32\n",
      " 11  u8           38179 non-null   float32\n",
      " 12  u9           522341 non-null  float32\n",
      " 13  u10          294859 non-null  float32\n",
      " 14  u11          521981 non-null  float32\n",
      " 15  u12          522341 non-null  float32\n",
      " 16  age_0.0      522341 non-null  bool   \n",
      " 17  age_1.0      522341 non-null  bool   \n",
      " 18  age_2.0      522341 non-null  bool   \n",
      " 19  age_3.0      522341 non-null  bool   \n",
      " 20  age_4.0      522341 non-null  bool   \n",
      " 21  age_5.0      522341 non-null  bool   \n",
      " 22  age_6.0      522341 non-null  bool   \n",
      " 23  age_7.0      522341 non-null  bool   \n",
      " 24  age_8.0      522341 non-null  bool   \n",
      " 25  gender_0.0   522341 non-null  bool   \n",
      " 26  gender_1.0   522341 non-null  bool   \n",
      " 27  gender_2.0   522341 non-null  bool   \n",
      " 28  m1           522341 non-null  int32  \n",
      " 29  m2           522341 non-null  int16  \n",
      " 30  m3           522341 non-null  int16  \n",
      " 31  m4           522341 non-null  int16  \n",
      " 32  m5           522341 non-null  int32  \n",
      " 33  m6           522341 non-null  int8   \n",
      " 34  m7           522341 non-null  float32\n",
      " 35  m8           518289 non-null  float32\n",
      " 36  m9           522341 non-null  float32\n",
      " 37  m10          522341 non-null  float32\n",
      " 38  m11          522341 non-null  float32\n",
      " 39  m12          522341 non-null  float32\n",
      " 40  um1          522341 non-null  int16  \n",
      " 41  um2          522341 non-null  int8   \n",
      " 42  um3          522341 non-null  int16  \n",
      " 43  um4          522341 non-null  int8   \n",
      " 44  um5          522341 non-null  int8   \n",
      " 45  um6          462933 non-null  float32\n",
      " 46  um7          9394 non-null    float32\n",
      " 47  um8          522341 non-null  float32\n",
      " 48  um9          96551 non-null   float32\n",
      " 49  um10         462933 non-null  float32\n",
      "dtypes: bool(12), float32(18), int16(12), int32(3), int8(4), object(1)\n",
      "memory usage: 65.8+ MB\n"
     ]
    }
   ],
   "execution_count": 31
  },
  {
   "metadata": {
    "ExecuteTime": {
     "end_time": "2025-03-13T09:13:32.143971Z",
     "start_time": "2025-03-13T09:13:30.232484Z"
    }
   },
   "cell_type": "code",
   "source": [
    "# 部分列存在许多没有匹配的空值，将空值填充为0\n",
    "data.fillna(0, inplace = True)\n",
    "# 拆分train、test数据集\n",
    "train = data[data[\"origin\"]==\"train\"].drop([\"origin\"],axis = 1)\n",
    "test = data[data[\"origin\"]==\"test\"].drop([\"origin\",\"label\"],axis = 1)\n",
    "X,Y = train.drop(['label'],axis=1),train['label']\n",
    "# 拆分训练集与验证集\n",
    "from sklearn.model_selection import train_test_split\n",
    "train_x,valid_x,train_y,valid_y = train_test_split(X,Y,test_size=0.2)\n",
    "# 计算train、valid集里正样本比例\n",
    "print(\"Ratio of positive samples in train dataset:\",train_y.mean())\n",
    "print(\"Ratio of positive samples in valid dataset:\",valid_y.mean())\n",
    "gc.collect()"
   ],
   "id": "2f24f26bc1e55e05",
   "outputs": [
    {
     "name": "stdout",
     "output_type": "stream",
     "text": [
      "Ratio of positive samples in train dataset: 0.06095615\n",
      "Ratio of positive samples in valid dataset: 0.061928585\n"
     ]
    },
    {
     "data": {
      "text/plain": [
       "0"
      ]
     },
     "execution_count": 32,
     "metadata": {},
     "output_type": "execute_result"
    }
   ],
   "execution_count": 32
  },
  {
   "metadata": {
    "ExecuteTime": {
     "end_time": "2025-03-13T09:19:02.705429Z",
     "start_time": "2025-03-13T09:18:49.701931Z"
    }
   },
   "cell_type": "code",
   "source": [
    "import matplotlib.pyplot as plt\n",
    "from sklearn.preprocessing import StandardScaler\n",
    "from sklearn.linear_model import LogisticRegression\n",
    "from sklearn.metrics import (\n",
    "    accuracy_score,\n",
    "    confusion_matrix,\n",
    "    ConfusionMatrixDisplay,\n",
    "    RocCurveDisplay,\n",
    "    classification_report\n",
    ")\n",
    "# 1. 数据标准化（逻辑回归对特征尺度敏感）\n",
    "scaler = StandardScaler()\n",
    "train_x_scaled = scaler.fit_transform(train_x)\n",
    "valid_x_scaled = scaler.transform(valid_x)  # 使用训练集的均值和方差\n",
    "\n",
    "# 2. 初始化并训练逻辑回归模型（优化参数）\n",
    "model = LogisticRegression(\n",
    "    penalty='l2',\n",
    "    C=0.1,                # 更小的C增强正则化，防止过拟合\n",
    "    solver='lbfgs',\n",
    "    max_iter=1000,\n",
    "    random_state=42,\n",
    "    class_weight='balanced' if train_y.mean() < 0.3 else None  # 自动处理不平衡\n",
    ")\n",
    "model.fit(train_x_scaled, train_y)\n",
    "\n",
    "# 3. 验证集预测\n",
    "valid_pred = model.predict(valid_x_scaled)\n",
    "valid_proba = model.predict_proba(valid_x_scaled)[:, 1]  # 正类概率\n",
    "\n",
    "# 4. 评估指标\n",
    "print(\"\\nValidation Accuracy:\", accuracy_score(valid_y, valid_pred))\n",
    "print(\"\\nClassification Report:\\n\", classification_report(valid_y, valid_pred))\n",
    "\n",
    "# 5. 可视化\n",
    "fig, ax = plt.subplots(1, 2, figsize=(15, 6))\n",
    "\n",
    "# 混淆矩阵\n",
    "cm = confusion_matrix(valid_y, valid_pred)\n",
    "ConfusionMatrixDisplay(cm, display_labels=model.classes_).plot(ax=ax[0], cmap='Blues')\n",
    "ax[0].set_title('Confusion Matrix')\n",
    "\n",
    "# ROC曲线\n",
    "RocCurveDisplay.from_estimator(model, valid_x_scaled, valid_y, ax=ax[1])\n",
    "ax[1].plot([0, 1], [0, 1], linestyle='--', label='Random Guess')\n",
    "ax[1].set_title('ROC Curve')\n",
    "plt.legend()\n",
    "plt.show()\n",
    "gc.collect()"
   ],
   "id": "14e3849ce2bf10d3",
   "outputs": [
    {
     "name": "stdout",
     "output_type": "stream",
     "text": [
      "\n",
      "Validation Accuracy: 0.6886128840588044\n",
      "\n",
      "Classification Report:\n",
      "               precision    recall  f1-score   support\n",
      "\n",
      "         0.0       0.96      0.70      0.81     48942\n",
      "         1.0       0.11      0.55      0.18      3231\n",
      "\n",
      "    accuracy                           0.69     52173\n",
      "   macro avg       0.53      0.62      0.49     52173\n",
      "weighted avg       0.91      0.69      0.77     52173\n",
      "\n"
     ]
    },
    {
     "data": {
      "text/plain": [
       "<Figure size 1500x600 with 3 Axes>"
      ],
      "image/png": "[encoded data removed]"
     },
     "metadata": {},
     "output_type": "display_data"
    },
    {
     "data": {
      "text/plain": [
       "3909"
      ]
     },
     "execution_count": 33,
     "metadata": {},
     "output_type": "execute_result"
    }
   ],
   "execution_count": 33
  },
  {
   "metadata": {
    "ExecuteTime": {
     "end_time": "2025-03-13T09:19:28.830430Z",
     "start_time": "2025-03-13T09:19:02.822979Z"
    }
   },
   "cell_type": "code",
   "source": [
    "import shap\n",
    "\n",
    "# 创建SHAP解释器（逻辑回归使用线性解释器）\n",
    "explainer = shap.LinearExplainer(\n",
    "    model,  # 你训练好的逻辑回归模型\n",
    "    train_x_scaled,  # 标准化后的训练数据\n",
    "    feature_names=X.columns.tolist()  # 传入特征名称\n",
    ")\n",
    "\n",
    "# 计算验证集的SHAP值（使用标准化后的数据）\n",
    "shap_values = explainer.shap_values(valid_x_scaled)\n",
    "\n",
    "# 可视化1：全局特征重要性\n",
    "plt.figure(figsize=(10, 6))\n",
    "shap.summary_plot(shap_values,\n",
    "                 valid_x_scaled,\n",
    "                 feature_names=X.columns,\n",
    "                 plot_type=\"bar\")\n",
    "plt.title(\"Global Feature Importance (SHAP values)\")\n",
    "plt.show()\n",
    "\n",
    "# 可视化2：详细SHAP值分布\n",
    "plt.figure(figsize=(10, 6))\n",
    "shap.summary_plot(shap_values,\n",
    "                 valid_x_scaled,\n",
    "                 feature_names=X.columns,\n",
    "                 plot_type=\"dot\")\n",
    "plt.title(\"SHAP Value Distribution\")\n",
    "plt.show()\n",
    "\n",
    "# 可视化3：单个样本解释（以验证集第一个样本为例）\n",
    "sample_idx = 0\n",
    "shap.force_plot(\n",
    "    explainer.expected_value,\n",
    "    shap_values[sample_idx],\n",
    "    valid_x_scaled[sample_idx],\n",
    "    feature_names=X.columns,\n",
    "    matplotlib=True\n",
    ")\n",
    "plt.title(f\"SHAP explanation for sample {sample_idx}\")\n",
    "plt.show()\n",
    "\n",
    "gc.collect()\n"
   ],
   "id": "b046708227b12a1",
   "outputs": [
    {
     "data": {
      "text/plain": [
       "<Figure size 800x950 with 1 Axes>"
      ],
      "image/png": "[encoded data removed]"
     },
     "metadata": {},
     "output_type": "display_data"
    },
    {
     "data": {
      "text/plain": [
       "<Figure size 640x480 with 1 Axes>"
      ],
      "image/png": "[encoded data removed]"
     },
     "metadata": {},
     "output_type": "display_data"
    },
    {
     "data": {
      "text/plain": [
       "<Figure size 800x950 with 2 Axes>"
      ],
      "image/png": "[encoded data removed]"
     },
     "metadata": {},
     "output_type": "display_data"
    },
    {
     "data": {
      "text/plain": [
       "<Figure size 640x480 with 1 Axes>"
      ],
      "image/png": "[encoded data removed]"
     },
     "metadata": {},
     "output_type": "display_data"
    },
    {
     "data": {
      "text/plain": [
       "<Figure size 2000x300 with 1 Axes>"
      ],
      "image/png": "[encoded data removed]"
     },
     "metadata": {},
     "output_type": "display_data"
    },
    {
     "data": {
      "text/plain": [
       "<Figure size 640x480 with 1 Axes>"
      ],
      "image/png": "[encoded data removed]"
     },
     "metadata": {},
     "output_type": "display_data"
    },
    {
     "data": {
      "text/plain": [
       "29700"
      ]
     },
     "execution_count": 34,
     "metadata": {},
     "output_type": "execute_result"
    }
   ],
   "execution_count": 34
  },
  {
   "metadata": {
    "ExecuteTime": {
     "end_time": "2025-03-13T09:19:28.930183Z",
     "start_time": "2025-03-13T09:19:28.925956Z"
    }
   },
   "cell_type": "code",
   "source": "",
   "id": "ea11be26bd9852d4",
   "outputs": [],
   "execution_count": null
  },
  {
   "metadata": {},
   "cell_type": "markdown",
   "source": "train、valid集正样本比例基本一致。",
   "id": "9c3cf66bab176901"
  },
  {
   "metadata": {},
   "cell_type": "markdown",
   "source": "### 线性svm",
   "id": "460ab32650e4d4aa"
  },
  {
   "metadata": {
    "ExecuteTime": {
     "end_time": "2025-03-13T09:19:29.025969Z",
     "start_time": "2025-03-13T09:19:29.019564Z"
    }
   },
   "cell_type": "code",
   "source": [
    "# import libraries\n",
    "from sklearn.model_selection import GridSearchCV, cross_val_score, StratifiedKFold, learning_curve\n",
    "from sklearn.metrics import roc_auc_score"
   ],
   "id": "689f61fba437d582",
   "outputs": [],
   "execution_count": 35
  },
  {
   "metadata": {
    "ExecuteTime": {
     "end_time": "2025-03-13T09:19:39.330079Z",
     "start_time": "2025-03-13T09:19:29.135317Z"
    }
   },
   "cell_type": "code",
   "source": [
    "# 处理类别不平衡（可选）\n",
    "from imblearn.over_sampling import SMOTE\n",
    "import gc\n",
    "smote = SMOTE(random_state=42)\n",
    "X_res, y_res = smote.fit_resample(train_x, train_y)\n",
    "\n",
    "# 处理缺失值（示例）\n",
    "from sklearn.impute import SimpleImputer\n",
    "imputer = SimpleImputer(strategy='median')\n",
    "gc.collect()"
   ],
   "id": "f1bf94b75eb9c686",
   "outputs": [
    {
     "data": {
      "text/plain": [
       "0"
      ]
     },
     "execution_count": 36,
     "metadata": {},
     "output_type": "execute_result"
    }
   ],
   "execution_count": 36
  },
  {
   "metadata": {
    "ExecuteTime": {
     "end_time": "2025-03-13T09:19:47.038631Z",
     "start_time": "2025-03-13T09:19:39.431079Z"
    }
   },
   "cell_type": "code",
   "source": [
    "# 改用随机搜索（适合大参数空间）\n",
    "from sklearn.pipeline import Pipeline\n",
    "from sklearn.preprocessing import StandardScaler\n",
    "from sklearn.linear_model import SGDClassifier  # 适合大数据的模型\n",
    "# 设置子样本比例（例如10%）\n",
    "subsample_ratio = 0.1\n",
    "\n",
    "# 随机抽取子样本\n",
    "X_sub, _, y_sub, _ = train_test_split(\n",
    "    X_res,  # 如果已经用SMOTE处理过，建议使用X_res/y_res\n",
    "    y_res,\n",
    "    train_size=subsample_ratio,\n",
    "    random_state=42,\n",
    "    stratify=y_res  # 保持类别平衡（如果数据不平衡）\n",
    ")\n",
    "\n",
    "pipeline = Pipeline([\n",
    "    ('scaler', StandardScaler()),  # 数据标准化\n",
    "    ('model', SGDClassifier(random_state=42))  # 使用随机梯度下降分类器（适合大数据）\n",
    "])\n",
    "from scipy.stats import loguniform\n",
    "\n",
    "param_grid = {\n",
    "    'model__alpha': loguniform(1e-5, 1e-1),  # 对数均匀分布采样正则化参数\n",
    "    'model__penalty': ['l2', 'l1', 'elasticnet'],\n",
    "    'model__learning_rate': ['constant', 'optimal', 'invscaling'],\n",
    "    'model__eta0': [0.01, 0.1, 0.5],  # 初始学习率\n",
    "}\n",
    "\n",
    "from sklearn.model_selection import RandomizedSearchCV\n",
    "# 初始化随机搜索\n",
    "random_search = RandomizedSearchCV(\n",
    "    estimator=pipeline,\n",
    "    param_distributions=param_grid,\n",
    "    n_iter=20,\n",
    "    scoring='accuracy',\n",
    "    cv=3,\n",
    "    n_jobs=-1,\n",
    "    random_state=42,\n",
    "    verbose=2\n",
    ")\n",
    "# 在子样本上训练\n",
    "random_search.fit(X_sub, y_sub)\n",
    "\n",
    "# 输出最佳参数\n",
    "print(\"Best Parameters:\", random_search.best_params_)"
   ],
   "id": "bb1355eb06679819",
   "outputs": [
    {
     "name": "stdout",
     "output_type": "stream",
     "text": [
      "Fitting 3 folds for each of 20 candidates, totalling 60 fits\n",
      "Best Parameters: {'model__alpha': 1.1299516083106613e-05, 'model__eta0': 0.01, 'model__learning_rate': 'optimal', 'model__penalty': 'l1'}\n"
     ]
    }
   ],
   "execution_count": 37
  },
  {
   "metadata": {
    "ExecuteTime": {
     "end_time": "2025-03-13T09:19:56.373879Z",
     "start_time": "2025-03-13T09:19:47.153877Z"
    }
   },
   "cell_type": "code",
   "source": "gc.collect()",
   "id": "59f198fbbe8e2380",
   "outputs": [
    {
     "data": {
      "text/plain": [
       "26"
      ]
     },
     "execution_count": 38,
     "metadata": {},
     "output_type": "execute_result"
    }
   ],
   "execution_count": 38
  },
  {
   "metadata": {
    "ExecuteTime": {
     "end_time": "2025-03-13T09:25:17.326981Z",
     "start_time": "2025-03-13T09:19:56.488500Z"
    }
   },
   "cell_type": "code",
   "source": [
    "#使用optuna进行贝叶斯优化\n",
    "import optuna\n",
    "from sklearn.model_selection import cross_val_score\n",
    "from sklearn.linear_model import SGDClassifier\n",
    "from sklearn.pipeline import Pipeline\n",
    "from sklearn.preprocessing import StandardScaler\n",
    "\n",
    "# 定义Optuna目标函数（使用X_res/y_res，即SMOTE后的数据）\n",
    "def objective(trial):\n",
    "    # 定义超参数搜索空间（适配SGDClassifier）\n",
    "    params = {\n",
    "        'model__alpha': trial.suggest_float('alpha', 1e-5, 1e-1, log=True),\n",
    "        'model__penalty': trial.suggest_categorical('penalty', ['l2', 'l1', 'elasticnet']),\n",
    "        'model__learning_rate': trial.suggest_categorical('learning_rate', ['constant', 'optimal', 'invscaling']),\n",
    "        'model__eta0': trial.suggest_float('eta0', 0.01, 0.5, log=True),\n",
    "        'model__max_iter': trial.suggest_int('max_iter', 500, 2000)\n",
    "    }\n",
    "\n",
    "    # 复用Pipeline结构\n",
    "    pipeline = Pipeline([\n",
    "        ('scaler', StandardScaler()),\n",
    "        ('model', SGDClassifier(random_state=42))\n",
    "    ])\n",
    "\n",
    "    # 设置参数并评估性能（使用交叉验证代替单次拆分）\n",
    "    pipeline.set_params(**params)\n",
    "    score = cross_val_score(\n",
    "        pipeline,\n",
    "        X_res,  # 使用完整的SMOTE后训练数据\n",
    "        y_res,\n",
    "        cv=3,    # 交叉验证折数\n",
    "        scoring='accuracy',  # 可改为roc_auc/f1等\n",
    "        n_jobs=-1\n",
    "    ).mean()\n",
    "\n",
    "    return score\n",
    "\n",
    "# 创建并运行优化\n",
    "study = optuna.create_study(direction='maximize')\n",
    "study.optimize(objective, n_trials=50)  # 可根据计算资源调整n_trials\n",
    "\n",
    "# 输出最佳参数\n",
    "print(\"Best parameters:\", study.best_params)\n",
    "print(\"Best accuracy:\", study.best_value)\n",
    "gc.collect()"
   ],
   "id": "8bde9b3aaa7b65b8",
   "outputs": [
    {
     "name": "stderr",
     "output_type": "stream",
     "text": [
      "[I 2025-03-13 17:19:56,615] A new study created in memory with name: no-name-9fed0517-158d-4d39-a642-90dc8d875dbb\n",
      "[I 2025-03-13 17:20:00,520] Trial 0 finished with value: 0.9138363741024768 and parameters: {'alpha': 6.93255296432506e-05, 'penalty': 'l2', 'learning_rate': 'optimal', 'eta0': 0.051693905210044425, 'max_iter': 1687}. Best is trial 0 with value: 0.9138363741024768.\n",
      "[I 2025-03-13 17:20:04,026] Trial 1 finished with value: 0.9138695424185315 and parameters: {'alpha': 0.0004957233252052891, 'penalty': 'l1', 'learning_rate': 'optimal', 'eta0': 0.03136045750571138, 'max_iter': 876}. Best is trial 1 with value: 0.9138695424185315.\n",
      "[I 2025-03-13 17:20:06,694] Trial 2 finished with value: 0.9138695424185315 and parameters: {'alpha': 0.043094413442627155, 'penalty': 'l2', 'learning_rate': 'optimal', 'eta0': 0.25280100450187054, 'max_iter': 825}. Best is trial 1 with value: 0.9138695424185315.\n",
      "[I 2025-03-13 17:20:16,483] Trial 3 finished with value: 0.9429224388465034 and parameters: {'alpha': 1.3956714008388923e-05, 'penalty': 'l1', 'learning_rate': 'constant', 'eta0': 0.018916830326511008, 'max_iter': 1813}. Best is trial 3 with value: 0.9429224388465034.\n",
      "[I 2025-03-13 17:20:19,174] Trial 4 finished with value: 0.9138695424185315 and parameters: {'alpha': 0.01309916916050671, 'penalty': 'l2', 'learning_rate': 'invscaling', 'eta0': 0.03750171556997279, 'max_iter': 1090}. Best is trial 3 with value: 0.9429224388465034.\n",
      "[I 2025-03-13 17:20:26,043] Trial 5 finished with value: 0.9385748636611458 and parameters: {'alpha': 1.1015380812929602e-05, 'penalty': 'l2', 'learning_rate': 'optimal', 'eta0': 0.023560679110396485, 'max_iter': 680}. Best is trial 3 with value: 0.9429224388465034.\n",
      "[I 2025-03-13 17:20:29,730] Trial 6 finished with value: 0.7552889051404481 and parameters: {'alpha': 0.0681321735127362, 'penalty': 'l1', 'learning_rate': 'constant', 'eta0': 0.17250769253393158, 'max_iter': 1316}. Best is trial 3 with value: 0.9429224388465034.\n",
      "[I 2025-03-13 17:20:32,820] Trial 7 finished with value: 0.9138695424185315 and parameters: {'alpha': 0.00010379416101794132, 'penalty': 'l1', 'learning_rate': 'invscaling', 'eta0': 0.1386143522871987, 'max_iter': 1216}. Best is trial 3 with value: 0.9429224388465034.\n",
      "[I 2025-03-13 17:20:35,883] Trial 8 finished with value: 0.9138695424185315 and parameters: {'alpha': 0.0012711315962012626, 'penalty': 'l1', 'learning_rate': 'invscaling', 'eta0': 0.2515035436477103, 'max_iter': 889}. Best is trial 3 with value: 0.9429224388465034.\n",
      "[I 2025-03-13 17:20:39,387] Trial 9 finished with value: 0.9138695424185315 and parameters: {'alpha': 0.000743698932139927, 'penalty': 'elasticnet', 'learning_rate': 'optimal', 'eta0': 0.022442813432551417, 'max_iter': 1568}. Best is trial 3 with value: 0.9429224388465034.\n",
      "[I 2025-03-13 17:20:48,780] Trial 10 finished with value: 0.9376614570899305 and parameters: {'alpha': 1.0208517061515692e-05, 'penalty': 'elasticnet', 'learning_rate': 'constant', 'eta0': 0.01287640279882326, 'max_iter': 1996}. Best is trial 3 with value: 0.9429224388465034.\n",
      "[I 2025-03-13 17:20:54,662] Trial 11 finished with value: 0.931104316209046 and parameters: {'alpha': 1.0690157952311457e-05, 'penalty': 'l2', 'learning_rate': 'constant', 'eta0': 0.010005652779430753, 'max_iter': 547}. Best is trial 3 with value: 0.9429224388465034.\n",
      "[I 2025-03-13 17:21:05,293] Trial 12 finished with value: 0.9445604638218308 and parameters: {'alpha': 7.950189024949337e-05, 'penalty': 'l1', 'learning_rate': 'constant', 'eta0': 0.019923379592899693, 'max_iter': 529}. Best is trial 12 with value: 0.9445604638218308.\n",
      "[I 2025-03-13 17:21:11,105] Trial 13 finished with value: 0.9437312781836851 and parameters: {'alpha': 7.838152351437362e-05, 'penalty': 'l1', 'learning_rate': 'constant', 'eta0': 0.07495964026724121, 'max_iter': 1971}. Best is trial 12 with value: 0.9445604638218308.\n",
      "[I 2025-03-13 17:21:17,568] Trial 14 finished with value: 0.9313875230761856 and parameters: {'alpha': 8.737887111358326e-05, 'penalty': 'l1', 'learning_rate': 'constant', 'eta0': 0.07849471008710629, 'max_iter': 1494}. Best is trial 12 with value: 0.9445604638218308.\n",
      "[I 2025-03-13 17:21:24,511] Trial 15 finished with value: 0.926667419918212 and parameters: {'alpha': 0.00020086517641143163, 'penalty': 'l1', 'learning_rate': 'constant', 'eta0': 0.09211745021940355, 'max_iter': 1996}. Best is trial 12 with value: 0.9445604638218308.\n",
      "[I 2025-03-13 17:21:28,223] Trial 16 finished with value: 0.8998801550509733 and parameters: {'alpha': 0.002990289130378137, 'penalty': 'elasticnet', 'learning_rate': 'constant', 'eta0': 0.05535521005176337, 'max_iter': 1123}. Best is trial 12 with value: 0.9445604638218308.\n",
      "[I 2025-03-13 17:21:35,457] Trial 17 finished with value: 0.942220846141779 and parameters: {'alpha': 5.250447795549024e-05, 'penalty': 'l1', 'learning_rate': 'constant', 'eta0': 0.1081485404613599, 'max_iter': 506}. Best is trial 12 with value: 0.9445604638218308.\n",
      "[I 2025-03-13 17:21:41,076] Trial 18 finished with value: 0.8951701524438925 and parameters: {'alpha': 0.00022327992736149394, 'penalty': 'l1', 'learning_rate': 'constant', 'eta0': 0.4154278487457779, 'max_iter': 1391}. Best is trial 12 with value: 0.9445604638218308.\n",
      "[I 2025-03-13 17:21:48,895] Trial 19 finished with value: 0.9345742482108271 and parameters: {'alpha': 3.105794686711102e-05, 'penalty': 'l1', 'learning_rate': 'constant', 'eta0': 0.042278705417349204, 'max_iter': 1732}. Best is trial 12 with value: 0.9445604638218308.\n",
      "[I 2025-03-13 17:21:52,051] Trial 20 finished with value: 0.9138695424185315 and parameters: {'alpha': 0.0031785806552490905, 'penalty': 'elasticnet', 'learning_rate': 'invscaling', 'eta0': 0.05969620983030443, 'max_iter': 987}. Best is trial 12 with value: 0.9445604638218308.\n",
      "[I 2025-03-13 17:22:01,124] Trial 21 finished with value: 0.9470072592550528 and parameters: {'alpha': 2.7585881038434118e-05, 'penalty': 'l1', 'learning_rate': 'constant', 'eta0': 0.01783134981838947, 'max_iter': 1831}. Best is trial 21 with value: 0.9470072592550528.\n",
      "[I 2025-03-13 17:22:09,385] Trial 22 finished with value: 0.9432541441530992 and parameters: {'alpha': 3.0138201864748873e-05, 'penalty': 'l1', 'learning_rate': 'constant', 'eta0': 0.01592905881914255, 'max_iter': 1809}. Best is trial 21 with value: 0.9470072592550528.\n",
      "[I 2025-03-13 17:22:17,474] Trial 23 finished with value: 0.929030010900961 and parameters: {'alpha': 0.00023869799245682604, 'penalty': 'l1', 'learning_rate': 'constant', 'eta0': 0.02883382481321467, 'max_iter': 1931}. Best is trial 21 with value: 0.9470072592550528.\n",
      "[I 2025-03-13 17:22:26,118] Trial 24 finished with value: 0.9453845703595151 and parameters: {'alpha': 3.698594717485234e-05, 'penalty': 'l1', 'learning_rate': 'constant', 'eta0': 0.01417664820629958, 'max_iter': 1567}. Best is trial 21 with value: 0.9470072592550528.\n",
      "[I 2025-03-13 17:22:36,098] Trial 25 finished with value: 0.9445834338631611 and parameters: {'alpha': 2.373482964754419e-05, 'penalty': 'l1', 'learning_rate': 'constant', 'eta0': 0.012472967868150577, 'max_iter': 1574}. Best is trial 21 with value: 0.9470072592550528.\n",
      "[I 2025-03-13 17:22:45,763] Trial 26 finished with value: 0.9441726564039395 and parameters: {'alpha': 2.7178580939607082e-05, 'penalty': 'l1', 'learning_rate': 'constant', 'eta0': 0.010131292134933642, 'max_iter': 1557}. Best is trial 21 with value: 0.9470072592550528.\n",
      "[I 2025-03-13 17:22:53,918] Trial 27 finished with value: 0.943575628609281 and parameters: {'alpha': 2.649068763615603e-05, 'penalty': 'l1', 'learning_rate': 'constant', 'eta0': 0.015151660749352841, 'max_iter': 1451}. Best is trial 21 with value: 0.9470072592550528.\n",
      "[I 2025-03-13 17:22:57,253] Trial 28 finished with value: 0.9138695424185315 and parameters: {'alpha': 0.00014187056694170611, 'penalty': 'l1', 'learning_rate': 'invscaling', 'eta0': 0.0142667984735588, 'max_iter': 1604}. Best is trial 21 with value: 0.9470072592550528.\n",
      "[I 2025-03-13 17:23:02,214] Trial 29 finished with value: 0.9119253721719457 and parameters: {'alpha': 4.099295208662026e-05, 'penalty': 'elasticnet', 'learning_rate': 'constant', 'eta0': 0.012157526370651981, 'max_iter': 1701}. Best is trial 21 with value: 0.9470072592550528.\n",
      "[I 2025-03-13 17:23:05,403] Trial 30 finished with value: 0.9138695424185315 and parameters: {'alpha': 0.00040526897986434984, 'penalty': 'l2', 'learning_rate': 'optimal', 'eta0': 0.02709513190306012, 'max_iter': 1831}. Best is trial 21 with value: 0.9470072592550528.\n",
      "[I 2025-03-13 17:23:15,344] Trial 31 finished with value: 0.9430576782596458 and parameters: {'alpha': 1.897954540475242e-05, 'penalty': 'l1', 'learning_rate': 'constant', 'eta0': 0.01820562620364493, 'max_iter': 1672}. Best is trial 21 with value: 0.9470072592550528.\n",
      "[I 2025-03-13 17:23:23,970] Trial 32 finished with value: 0.9365592286638401 and parameters: {'alpha': 5.490258985739331e-05, 'penalty': 'l1', 'learning_rate': 'constant', 'eta0': 0.0204808216181439, 'max_iter': 1349}. Best is trial 21 with value: 0.9470072592550528.\n",
      "[I 2025-03-13 17:23:31,766] Trial 33 finished with value: 0.9424274835550307 and parameters: {'alpha': 1.951730842853774e-05, 'penalty': 'l1', 'learning_rate': 'constant', 'eta0': 0.036390591057081284, 'max_iter': 1213}. Best is trial 21 with value: 0.9470072592550528.\n",
      "[I 2025-03-13 17:23:41,166] Trial 34 finished with value: 0.946736815288288 and parameters: {'alpha': 5.5066918339222305e-05, 'penalty': 'l1', 'learning_rate': 'constant', 'eta0': 0.012277476146311453, 'max_iter': 1881}. Best is trial 21 with value: 0.9470072592550528.\n",
      "[I 2025-03-13 17:23:46,359] Trial 35 finished with value: 0.9482140914151452 and parameters: {'alpha': 5.2844709275876805e-05, 'penalty': 'l1', 'learning_rate': 'optimal', 'eta0': 0.011301124231980571, 'max_iter': 1828}. Best is trial 35 with value: 0.9482140914151452.\n",
      "[I 2025-03-13 17:23:49,406] Trial 36 finished with value: 0.913872093822952 and parameters: {'alpha': 0.0004421675583572486, 'penalty': 'l2', 'learning_rate': 'optimal', 'eta0': 0.01011251771684151, 'max_iter': 1886}. Best is trial 35 with value: 0.9482140914151452.\n",
      "[I 2025-03-13 17:23:54,137] Trial 37 finished with value: 0.9264275829227477 and parameters: {'alpha': 0.00013967873403599015, 'penalty': 'l1', 'learning_rate': 'optimal', 'eta0': 0.01603775617770554, 'max_iter': 1802}. Best is trial 35 with value: 0.9482140914151452.\n",
      "[I 2025-03-13 17:23:59,476] Trial 38 finished with value: 0.9485534274023851 and parameters: {'alpha': 5.449741553618795e-05, 'penalty': 'l1', 'learning_rate': 'optimal', 'eta0': 0.025238804371435164, 'max_iter': 1886}. Best is trial 38 with value: 0.9485534274023851.\n",
      "[I 2025-03-13 17:24:02,066] Trial 39 finished with value: 0.9138695424185315 and parameters: {'alpha': 0.021653967480066153, 'penalty': 'l2', 'learning_rate': 'optimal', 'eta0': 0.02662675087334127, 'max_iter': 1887}. Best is trial 38 with value: 0.9485534274023851.\n",
      "[I 2025-03-13 17:24:05,254] Trial 40 finished with value: 0.913854233992008 and parameters: {'alpha': 0.0015915153313777576, 'penalty': 'l1', 'learning_rate': 'optimal', 'eta0': 0.03665322322971175, 'max_iter': 1740}. Best is trial 38 with value: 0.9485534274023851.\n",
      "[I 2025-03-13 17:24:10,826] Trial 41 finished with value: 0.9508165291774592 and parameters: {'alpha': 4.1390813220503655e-05, 'penalty': 'l1', 'learning_rate': 'optimal', 'eta0': 0.01788917227839999, 'max_iter': 1650}. Best is trial 41 with value: 0.9508165291774592.\n",
      "[I 2025-03-13 17:24:17,886] Trial 42 finished with value: 0.9570572836263628 and parameters: {'alpha': 1.6047294566044314e-05, 'penalty': 'l1', 'learning_rate': 'optimal', 'eta0': 0.017906962529659513, 'max_iter': 1660}. Best is trial 42 with value: 0.9570572836263628.\n",
      "[I 2025-03-13 17:24:24,517] Trial 43 finished with value: 0.956679673799676 and parameters: {'alpha': 1.8990534946667244e-05, 'penalty': 'l1', 'learning_rate': 'optimal', 'eta0': 0.023721833898262157, 'max_iter': 1772}. Best is trial 42 with value: 0.9570572836263628.\n",
      "[I 2025-03-13 17:24:31,355] Trial 44 finished with value: 0.9579196602929567 and parameters: {'alpha': 1.4864031632932663e-05, 'penalty': 'l1', 'learning_rate': 'optimal', 'eta0': 0.02524160308377605, 'max_iter': 1650}. Best is trial 44 with value: 0.9579196602929567.\n",
      "[I 2025-03-13 17:24:38,666] Trial 45 finished with value: 0.9576134899658081 and parameters: {'alpha': 1.5395376313716178e-05, 'penalty': 'l1', 'learning_rate': 'optimal', 'eta0': 0.0454150990958864, 'max_iter': 1631}. Best is trial 44 with value: 0.9579196602929567.\n",
      "[I 2025-03-13 17:24:45,849] Trial 46 finished with value: 0.9560111993382838 and parameters: {'alpha': 1.7368463467118914e-05, 'penalty': 'l1', 'learning_rate': 'optimal', 'eta0': 0.04315897560285648, 'max_iter': 1681}. Best is trial 44 with value: 0.9579196602929567.\n",
      "[I 2025-03-13 17:24:54,347] Trial 47 finished with value: 0.939154025121656 and parameters: {'alpha': 1.4752477845570464e-05, 'penalty': 'elasticnet', 'learning_rate': 'optimal', 'eta0': 0.04141028980875292, 'max_iter': 1473}. Best is trial 44 with value: 0.9579196602929567.\n",
      "[I 2025-03-13 17:25:01,049] Trial 48 finished with value: 0.9583687075490924 and parameters: {'alpha': 1.358186286083904e-05, 'penalty': 'l1', 'learning_rate': 'optimal', 'eta0': 0.032851469899636575, 'max_iter': 1627}. Best is trial 48 with value: 0.9583687075490924.\n",
      "[I 2025-03-13 17:25:07,950] Trial 49 finished with value: 0.9376359434948952 and parameters: {'alpha': 1.0771747853262894e-05, 'penalty': 'l2', 'learning_rate': 'optimal', 'eta0': 0.06126167133764169, 'max_iter': 1417}. Best is trial 48 with value: 0.9583687075490924.\n"
     ]
    },
    {
     "name": "stdout",
     "output_type": "stream",
     "text": [
      "Best parameters: {'alpha': 1.358186286083904e-05, 'penalty': 'l1', 'learning_rate': 'optimal', 'eta0': 0.032851469899636575, 'max_iter': 1627}\n",
      "Best accuracy: 0.9583687075490924\n"
     ]
    },
    {
     "data": {
      "text/plain": [
       "1591"
      ]
     },
     "execution_count": 39,
     "metadata": {},
     "output_type": "execute_result"
    }
   ],
   "execution_count": 39
  },
  {
   "metadata": {
    "ExecuteTime": {
     "end_time": "2025-03-13T09:25:29.891450Z",
     "start_time": "2025-03-13T09:25:17.638439Z"
    }
   },
   "cell_type": "code",
   "source": [
    "import matplotlib.pyplot as plt\n",
    "from sklearn.metrics import ConfusionMatrixDisplay, RocCurveDisplay\n",
    "\n",
    "# 使用最佳模型预测验证集\n",
    "pipeline.fit(X_res, y_res)  # 先在完整SMOTE数据上训练（如果尚未训练）\n",
    "\n",
    "# 绘制混淆矩阵（直接使用Pipeline，无需手动标准化数据）\n",
    "ConfusionMatrixDisplay.from_estimator(\n",
    "    pipeline,\n",
    "    valid_x,  # 使用验证集数据\n",
    "    valid_y,\n",
    "    cmap='Blues',\n",
    "    normalize='true'  # 可选：显示归一化后的比例\n",
    ")\n",
    "plt.title('Confusion Matrix on Validation Set')\n",
    "\n",
    "# 绘制ROC曲线\n",
    "RocCurveDisplay.from_estimator(\n",
    "    pipeline,\n",
    "    valid_x,\n",
    "    valid_y,\n",
    "    name='SGDClassifier'\n",
    ")\n",
    "plt.plot([0, 1], [0, 1], linestyle='--', label='Random Guess')\n",
    "plt.title('ROC Curve on Validation Set')\n",
    "plt.legend()\n",
    "plt.show()\n",
    "gc.collect()\n"
   ],
   "id": "99b26c25648b3bdd",
   "outputs": [
    {
     "data": {
      "text/plain": [
       "<Figure size 640x480 with 2 Axes>"
      ],
      "image/png": "[encoded data removed]"
     },
     "metadata": {},
     "output_type": "display_data"
    },
    {
     "data": {
      "text/plain": [
       "<Figure size 640x480 with 1 Axes>"
      ],
      "image/png": "[encoded data removed]"
     },
     "metadata": {},
     "output_type": "display_data"
    },
    {
     "data": {
      "text/plain": [
       "7712"
      ]
     },
     "execution_count": 40,
     "metadata": {},
     "output_type": "execute_result"
    }
   ],
   "execution_count": 40
  },
  {
   "metadata": {
    "ExecuteTime": {
     "end_time": "2025-03-13T09:25:29.920299Z",
     "start_time": "2025-03-13T09:25:29.916568Z"
    }
   },
   "cell_type": "code",
   "source": "",
   "id": "170f940b25322f6d",
   "outputs": [],
   "execution_count": null
  },
  {
   "metadata": {
    "ExecuteTime": {
     "end_time": "2025-03-13T09:25:30.047979Z",
     "start_time": "2025-03-13T09:25:30.043777Z"
    }
   },
   "cell_type": "code",
   "source": "",
   "id": "c2379642fd1ed622",
   "outputs": [],
   "execution_count": null
  },
  {
   "metadata": {},
   "cell_type": "markdown",
   "source": "### 随机森林",
   "id": "a94b61bfe5342181"
  },
  {
   "metadata": {
    "ExecuteTime": {
     "end_time": "2025-03-13T09:27:28.179845Z",
     "start_time": "2025-03-13T09:25:30.269096Z"
    }
   },
   "cell_type": "code",
   "source": [
    "from sklearn.ensemble import RandomForestClassifier\n",
    "# 使用默认参数建模\n",
    "model = RandomForestClassifier()\n",
    "model.fit(train_x,train_y)\n",
    "RandomForestClassifier()\n",
    "# evaluate model\n",
    "auc_rf = roc_auc_score(valid_y,model.predict_proba(valid_x)[:,1])\n",
    "print('accuracy：',model.score(valid_x,valid_y))\n",
    "print('roc_auc：',auc_rf)\n",
    "gc.collect()"
   ],
   "id": "fc82582b966a8ab8",
   "outputs": [
    {
     "name": "stdout",
     "output_type": "stream",
     "text": [
      "accuracy： 0.9379372472351599\n",
      "roc_auc： 0.6481764378760926\n"
     ]
    },
    {
     "data": {
      "text/plain": [
       "66"
      ]
     },
     "execution_count": 41,
     "metadata": {},
     "output_type": "execute_result"
    }
   ],
   "execution_count": 41
  },
  {
   "metadata": {
    "ExecuteTime": {
     "end_time": "2025-03-13T10:07:43.568022Z",
     "start_time": "2025-03-13T10:07:27.728733Z"
    }
   },
   "cell_type": "code",
   "source": "gc.collect()",
   "id": "b5f2148cc8acb0c6",
   "outputs": [
    {
     "data": {
      "text/plain": [
       "1348"
      ]
     },
     "execution_count": 44,
     "metadata": {},
     "output_type": "execute_result"
    }
   ],
   "execution_count": 44
  },
  {
   "metadata": {
    "ExecuteTime": {
     "end_time": "2025-03-13T11:17:14.425690Z",
     "start_time": "2025-03-13T10:08:46.300085Z"
    }
   },
   "cell_type": "code",
   "source": [
    "# 调参\n",
    "RF = RandomForestClassifier()\n",
    "params = {\"n_estimators\":[50,100],\n",
    "          \"max_depth\":[5,10,100],\n",
    "          \"min_samples_split\":[2,10,500],\n",
    "          \"min_samples_leaf\":[1,50,100]\n",
    "         }\n",
    "\n",
    "grid_search = GridSearchCV(RF,params,cv = 3,scoring = \"roc_auc\")\n",
    "grid_search.fit(train_x,train_y)\n",
    "# 调参后的最优参数结果\n",
    "display(grid_search.best_params_)\n",
    "display(grid_search.best_score_)\n",
    "# evaluate the model\n",
    "# model = grid_search.best_estimator_\n",
    "\n",
    "# 二次计算时，直接使用最优参数建模\n",
    "RF = RandomForestClassifier(max_depth=100,min_samples_leaf=50,min_samples_split=10)\n",
    "RF.fit(train_x,train_y)\n",
    "\n",
    "\n",
    "auc_rf = roc_auc_score(valid_y,RF.predict_proba(valid_x)[:,1])\n",
    "print('accuracy：',RF.score(valid_x,valid_y))\n",
    "print('roc_auc：',auc_rf)\n",
    "gc.collect()"
   ],
   "id": "70c45ddfd769d095",
   "outputs": [
    {
     "data": {
      "text/plain": [
       "{'max_depth': 100,\n",
       " 'min_samples_leaf': 50,\n",
       " 'min_samples_split': 2,\n",
       " 'n_estimators': 100}"
      ]
     },
     "metadata": {},
     "output_type": "display_data"
    },
    {
     "data": {
      "text/plain": [
       "0.677982391010216"
      ]
     },
     "metadata": {},
     "output_type": "display_data"
    },
    {
     "name": "stdout",
     "output_type": "stream",
     "text": [
      "accuracy： 0.9380714162497844\n",
      "roc_auc： 0.6768168705455853\n"
     ]
    },
    {
     "data": {
      "text/plain": [
       "528"
      ]
     },
     "execution_count": 45,
     "metadata": {},
     "output_type": "execute_result"
    }
   ],
   "execution_count": 45
  },
  {
   "metadata": {},
   "cell_type": "markdown",
   "source": "|重要性排名前三的特性为：商家用户复购率，用户购买点击比和用户-商家交互过的商品数。",
   "id": "d5a44409b7727987"
  },
  {
   "metadata": {
    "ExecuteTime": {
     "end_time": "2025-03-13T11:17:33.002397Z",
     "start_time": "2025-03-13T11:17:27.342780Z"
    }
   },
   "cell_type": "code",
   "source": [
    "# 进行预测\n",
    "prob_rf = RF.predict_proba(test)[:,1]\n",
    "prob_rf"
   ],
   "id": "b153584f96942850",
   "outputs": [
    {
     "data": {
      "text/plain": [
       "array([0.08279662, 0.10798385, 0.07516159, ..., 0.09223881, 0.04896279,\n",
       "       0.05518816])"
      ]
     },
     "execution_count": 46,
     "metadata": {},
     "output_type": "execute_result"
    }
   ],
   "execution_count": 46
  },
  {
   "metadata": {},
   "cell_type": "code",
   "outputs": [],
   "execution_count": null,
   "source": [
    "gc.collect()\n",
    "import shap\n",
    "import matplotlib.pyplot as plt\n",
    "\n",
    "# 1. 创建SHAP解释器\n",
    "explainer = shap.TreeExplainer(RF)  # 替换model为你的训练好的模型变量\n",
    "\n",
    "# 2. 计算SHAP值（假设X_test是你的测试数据）\n",
    "shap_values = explainer.shap_values(test)\n",
    "\n",
    "# 3. 可视化分析\n",
    "# 摘要图（显示特征重要性）\n",
    "shap.summary_plot(shap_values, test, show=False)\n",
    "plt.savefig('summary_plot.png')  # 保存为图片\n",
    "plt.close()\n",
    "\n",
    "# 条形图摘要（特征重要性排序）\n",
    "shap.summary_plot(shap_values, test, plot_type=\"bar\", show=False)\n",
    "plt.savefig('bar_plot.png')\n",
    "plt.close()\n",
    "\n",
    "# 单个样本解释（例如第一个样本）\n",
    "shap.initjs()  # 初始化JS（用于Notebook中的交互式显示）\n",
    "force_plot = shap.force_plot(\n",
    "    explainer.expected_value,\n",
    "    shap_values[0, :],\n",
    "    test.iloc[0, :] if hasattr(test, 'iloc') else test[0],\n",
    "    matplotlib=True  # 设置为True生成静态图\n",
    ")\n",
    "plt.savefig('force_plot.png')\n",
    "plt.close()"
   ],
   "id": "99ee88bcbc8f0c3a"
  },
  {
   "metadata": {},
   "cell_type": "markdown",
   "source": "### SHAP值计算",
   "id": "72eb326d1e9bb356"
  },
  {
   "metadata": {},
   "cell_type": "code",
   "outputs": [],
   "execution_count": null,
   "source": "",
   "id": "d2a977c723eee10d"
  },
  {
   "metadata": {},
   "cell_type": "code",
   "outputs": [],
   "execution_count": null,
   "source": "",
   "id": "b788c7c3f003fd22"
  }
 ],
 "metadata": {
  "kernelspec": {
   "display_name": "Python 3",
   "language": "python",
   "name": "python3"
  },
  "language_info": {
   "codemirror_mode": {
    "name": "ipython",
    "version": 2
   },
   "file_extension": ".py",
   "mimetype": "text/x-python",
   "name": "python",
   "nbconvert_exporter": "python",
   "pygments_lexer": "ipython2",
   "version": "2.7.6"
  }
 },
 "nbformat": 4,
 "nbformat_minor": 5
}
